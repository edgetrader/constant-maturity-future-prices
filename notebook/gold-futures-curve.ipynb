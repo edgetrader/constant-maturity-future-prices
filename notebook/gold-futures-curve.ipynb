{
 "cells": [
  {
   "cell_type": "markdown",
   "metadata": {},
   "source": [
    "# Gold Futures Price and Volatility Curves\n",
    "\n",
    "## Summary\n",
    "A quick analysis on gold future prices downloaded from TurtleTrader.com.  Given that every future contract is priced and traded based on days to maturity at the point in time, there are two ways to convert them into continual time series: **Nearbys** or **Constant Maturity** price series.\n",
    "\n",
    "Below demostrated the generation and creation of these time series.  More details can be found [here](https://www.value-at-risk.net/futures-prices/).\n",
    "\n",
    "## Data\n",
    "Data gathered from TurtleTrader.com [here](https://www.turtletrader.com/hpd/).\n"
   ]
  },
  {
   "cell_type": "markdown",
   "metadata": {},
   "source": [
    "## Import Libraries"
   ]
  },
  {
   "cell_type": "code",
   "execution_count": 1,
   "metadata": {},
   "outputs": [],
   "source": [
    "import time\n",
    "import re\n",
    "import random\n",
    "import numpy as np\n",
    "import pandas as pd\n",
    "\n",
    "import seaborn as sns; sns.set()\n",
    "import matplotlib.pyplot as plt\n",
    "import matplotlib.ticker as ticker\n",
    "%matplotlib inline\n",
    "\n",
    "## Changing the default settings\n",
    "pd.options.display.max_columns = 50\n",
    "plt.rcParams.update({'figure.figsize':(15,6), 'figure.dpi':60})\n",
    "plt.style.use('fivethirtyeight')\n",
    "\n",
    "import warnings\n",
    "warnings.filterwarnings('ignore')"
   ]
  },
  {
   "cell_type": "markdown",
   "metadata": {},
   "source": [
    "## Loading Raw Prices"
   ]
  },
  {
   "cell_type": "code",
   "execution_count": 2,
   "metadata": {},
   "outputs": [],
   "source": [
    "import os\n",
    "from datetime import date\n",
    "from dateutil.relativedelta import relativedelta\n",
    "from tqdm.notebook import tqdm\n",
    "\n",
    "PRICE_FOLDER = '../data/gold/'\n",
    "filelist = []\n",
    "\n",
    "for dirname, _, filenames in os.walk(PRICE_FOLDER):\n",
    "    for filename in filenames:\n",
    "        filelist.append(os.path.join(dirname, filename))"
   ]
  },
  {
   "cell_type": "code",
   "execution_count": 3,
   "metadata": {},
   "outputs": [
    {
     "name": "stdout",
     "output_type": "stream",
     "text": [
      "Number of files to process: 214\n"
     ]
    },
    {
     "data": {
      "application/vnd.jupyter.widget-view+json": {
       "model_id": "a1089538caa64ef1ba5a6f33aec737f7",
       "version_major": 2,
       "version_minor": 0
      },
      "text/plain": [
       "HBox(children=(FloatProgress(value=0.0, max=214.0), HTML(value='')))"
      ]
     },
     "metadata": {},
     "output_type": "display_data"
    },
    {
     "name": "stdout",
     "output_type": "stream",
     "text": [
      "\n"
     ]
    },
    {
     "data": {
      "application/vnd.jupyter.widget-view+json": {
       "model_id": "e3d5b6349f874e14be31dee5a514232a",
       "version_major": 2,
       "version_minor": 0
      },
      "text/plain": [
       "HBox(children=(FloatProgress(value=0.0, max=31.0), HTML(value='')))"
      ]
     },
     "metadata": {},
     "output_type": "display_data"
    },
    {
     "name": "stdout",
     "output_type": "stream",
     "text": [
      "\n",
      "Number of files processed successfully: 214\n"
     ]
    }
   ],
   "source": [
    "prices_full = []\n",
    "filelist2 = []\n",
    "filelist3 = []\n",
    "\n",
    "print('Number of files to process: {}'.format(len(filelist)))\n",
    "\n",
    "for file in tqdm(filelist):\n",
    "    try:\n",
    "        prices = pd.read_csv(file, header=None, dtype={0:'str'})\n",
    "        prices.columns = ['date', 'open', 'high', 'low', 'close', 'volume', 'open_interest']\n",
    "        prices.date = pd.to_datetime(prices.date, format='%y%m%d')\n",
    "        maturity_date = max(prices.date) + relativedelta(days=1)\n",
    "        prices['maturity_date'] = maturity_date\n",
    "        prices['days_to_maturity'] = prices.maturity_date - prices.date\n",
    "        prices['days_to_maturity'] = prices.days_to_maturity.dt.days\n",
    "        prices_full.append(prices)\n",
    "    except:        \n",
    "        filelist2.append(file)\n",
    "\n",
    "for file in tqdm(filelist2):\n",
    "    try:\n",
    "        prices = pd.read_csv(file, dtype={0:'str'})\n",
    "        prices.columns = ['date', 'open', 'high', 'low', 'close', 'volume', 'open_interest']\n",
    "        prices.date = pd.to_datetime(prices.date, format='%m/%d/%Y')\n",
    "        maturity_date = max(prices.date) + relativedelta(days=1)\n",
    "        prices['maturity_date'] = maturity_date\n",
    "        prices['days_to_maturity'] = prices.maturity_date - prices.date\n",
    "        prices['days_to_maturity'] = prices.days_to_maturity.dt.days\n",
    "        prices_full.append(prices)\n",
    "    except:        \n",
    "        filelist3.append(file)\n",
    "        \n",
    "print('Number of files processed successfully: {}'.format(len(prices_full)))\n",
    "prices_full = pd.concat(prices_full)    "
   ]
  },
  {
   "cell_type": "markdown",
   "metadata": {},
   "source": [
    "## Nearby Futures Prices"
   ]
  },
  {
   "cell_type": "code",
   "execution_count": 4,
   "metadata": {},
   "outputs": [],
   "source": [
    "prices_full.sort_values(['date','maturity_date'], inplace=True)"
   ]
  },
  {
   "cell_type": "code",
   "execution_count": 5,
   "metadata": {},
   "outputs": [],
   "source": [
    "def generate_nearby(prices_full, N):\n",
    "\n",
    "    prices_nearby = []\n",
    "\n",
    "    for dt in prices_full.date.unique():\n",
    "        px = prices_full[(prices_full.date == dt) & (prices_full.days_to_maturity >= 14)]\n",
    "        if px.shape[0] > N:\n",
    "            prices_nearby.append(px.iloc[[N-1]])\n",
    "\n",
    "    prices_nearby = pd.concat(prices_nearby)\n",
    "    prices_nearby.set_index('date', inplace=True)        \n",
    "    \n",
    "    return prices_nearby[['close']]"
   ]
  },
  {
   "cell_type": "code",
   "execution_count": 6,
   "metadata": {},
   "outputs": [],
   "source": [
    "prices_nearby_first = generate_nearby(prices_full, 1)\n",
    "prices_nearby_second = generate_nearby(prices_full, 2)\n",
    "prices_nearby_third = generate_nearby(prices_full, 3)"
   ]
  },
  {
   "cell_type": "code",
   "execution_count": 7,
   "metadata": {},
   "outputs": [],
   "source": [
    "prices_nearby = prices_nearby_first.merge(prices_nearby_second, left_index=True, \n",
    "                                          right_index=True)\n",
    "prices_nearby = prices_nearby.merge(prices_nearby_third, left_index=True, \n",
    "                                          right_index=True)\n",
    "prices_nearby.columns = ['close_1st','close_2nd','close_3rd']"
   ]
  },
  {
   "cell_type": "code",
   "execution_count": 8,
   "metadata": {},
   "outputs": [
    {
     "data": {
      "image/png": "[encoded data removed]",
      "text/plain": [
       "<Figure size 900x360 with 1 Axes>"
      ]
     },
     "metadata": {},
     "output_type": "display_data"
    }
   ],
   "source": [
    "prices_nearby.plot()\n",
    "plt.title('Gold Nearby Future Prices')\n",
    "plt.show()"
   ]
  },
  {
   "cell_type": "code",
   "execution_count": 10,
   "metadata": {},
   "outputs": [],
   "source": [
    "price_vol = prices_nearby.pct_change().dropna().rolling(252).std().dropna()*np.sqrt(252)"
   ]
  },
  {
   "cell_type": "code",
   "execution_count": 11,
   "metadata": {},
   "outputs": [
    {
     "data": {
      "image/png": "[encoded data removed]",
      "text/plain": [
       "<Figure size 900x360 with 1 Axes>"
      ]
     },
     "metadata": {},
     "output_type": "display_data"
    }
   ],
   "source": [
    "price_vol.plot()\n",
    "plt.title('Gold Nearby Future Price Volatility')\n",
    "plt.show()"
   ]
  },
  {
   "cell_type": "markdown",
   "metadata": {},
   "source": [
    "## Generating Constant Maturity Price Curve\n",
    "\n",
    "Defining the list to constant maturity period we wish to calculate a price as follows:  \n",
    "\n",
    "| Period        | Number of Days |   | Period        | Number of Days |\n",
    "|:-------------:|:-------------:|---|:-------------:|:-------------:|\n",
    "| 1 day | 1 |   | 3 months | 90 |\n",
    "| 1 week | 5 |   | 6 months | 180 |\n",
    "| 1 month | 30 |   | 1 year | 360 |\n",
    "| 2 months | 60 |   | 2 years | 720 |\n",
    "\n",
    "Interpolation is performed with a cubic spline."
   ]
  },
  {
   "cell_type": "code",
   "execution_count": 12,
   "metadata": {},
   "outputs": [],
   "source": [
    "prices_full = pd.DataFrame(prices_full.groupby(['date','days_to_maturity'])['close'].mean())\n",
    "prices_full.sort_index(level=['date', 'days_to_maturity'], inplace=True)"
   ]
  },
  {
   "cell_type": "code",
   "execution_count": 13,
   "metadata": {},
   "outputs": [
    {
     "data": {
      "application/vnd.jupyter.widget-view+json": {
       "model_id": "1b764524c7bb42709cdf8b03b3e358ba",
       "version_major": 2,
       "version_minor": 0
      },
      "text/plain": [
       "HBox(children=(FloatProgress(value=0.0, max=6972.0), HTML(value='')))"
      ]
     },
     "metadata": {},
     "output_type": "display_data"
    },
    {
     "name": "stdout",
     "output_type": "stream",
     "text": [
      "Warning! Only one record in sample: 2002-09-27 00:00:00\n",
      "Warning! Only one record in sample: 2002-09-30 00:00:00\n",
      "Warning! Only one record in sample: 2002-10-01 00:00:00\n",
      "\n"
     ]
    }
   ],
   "source": [
    "from scipy import interpolate\n",
    "\n",
    "idx = pd.IndexSlice\n",
    "\n",
    "cm_points = [1,5,30,60,90,180,360,720]\n",
    "cm = pd.DataFrame(cm_points, columns=['days_to_maturity'])\n",
    "cm['close'] = np.nan\n",
    "\n",
    "const_mat = []\n",
    "\n",
    "for dt in tqdm(prices_full.index.levels[0]):\n",
    "    sample = prices_full.loc[idx[dt,:],:]\n",
    "    sample.reset_index(inplace=True)\n",
    "    \n",
    "    if sample.shape[0] > 1:\n",
    "#         f = interpolate.interp1d(sample.days_to_maturity, sample.close, fill_value=\"extrapolate\")\n",
    "        f = interpolate.CubicSpline(sample.days_to_maturity, sample.close, extrapolate=True)\n",
    "\n",
    "        new_sample = pd.concat([sample[['days_to_maturity','close']], \\\n",
    "                                cm[~cm.days_to_maturity.isin(sample.days_to_maturity)]]) \\\n",
    "                                .sort_values('days_to_maturity') \\\n",
    "                                .reset_index(drop=True)\n",
    "\n",
    "        new_sample.close = f(new_sample.days_to_maturity)\n",
    "        new_sample = new_sample[new_sample.days_to_maturity.isin(cm_points)]\n",
    "        new_sample['date'] = dt\n",
    "        new_sample['num_of_contracts'] = sample.shape[0]\n",
    "        const_mat.append(new_sample)\n",
    "    elif sample.shape[0] == 1:\n",
    "        print('Warning! Only one record in sample: {}'.format(dt))\n",
    "        \n",
    "        new_sample = cm.copy()\n",
    "        new_sample['close'] = sample.iloc[0].close\n",
    "        new_sample['date'] = dt\n",
    "        new_sample['num_of_contracts'] = sample.shape[0]\n",
    "        const_mat.append(new_sample)\n",
    "    else:\n",
    "        pass\n",
    "\n",
    "const_mat = pd.concat(const_mat)"
   ]
  },
  {
   "cell_type": "code",
   "execution_count": 14,
   "metadata": {},
   "outputs": [],
   "source": [
    "days_to_maturity_todrop = const_mat[const_mat.close < 0].days_to_maturity.unique().tolist()\n",
    "const_mat = const_mat[~const_mat.days_to_maturity.isin(days_to_maturity_todrop)]\n",
    "\n",
    "const_mat.drop('num_of_contracts', axis=1, inplace=True)\n",
    "\n",
    "const_mat.set_index(['date', 'days_to_maturity'], inplace=True)\n",
    "const_mat = const_mat.unstack('days_to_maturity')"
   ]
  },
  {
   "cell_type": "markdown",
   "metadata": {},
   "source": [
    "## Generating Constant Maturity Volatility Curve\n",
    "\n",
    "All in a single line of code:\n",
    "1. Calculating the daily returns of each period\n",
    "2. Calculating the rolling volatilily\n",
    "3. Annualising the volatility"
   ]
  },
  {
   "cell_type": "code",
   "execution_count": 15,
   "metadata": {},
   "outputs": [],
   "source": [
    "const_mat_vol = const_mat.pct_change().dropna().rolling(252).std().dropna()*np.sqrt(252)"
   ]
  },
  {
   "cell_type": "markdown",
   "metadata": {},
   "source": [
    "## 3D Plots\n",
    "\n",
    "Given that the raw data between 1996 and 2000 are more complete, we choose to plot the surfaces between 1996 and 2000."
   ]
  },
  {
   "cell_type": "code",
   "execution_count": 19,
   "metadata": {},
   "outputs": [
    {
     "data": {
      "application/vnd.plotly.v1+json": {
       "config": {
        "plotlyServerURL": "https://plot.ly"
       },
       "data": [
        {
         "type": "surface",
         "x": [
          1,
          5,
          30,
          60,
          90,
          180,
          360,
          720
         ],
         "y": [
          "Jan-96",
          "Feb-96",
          "Mar-96",
          "Apr-96",
          "May-96",
          "Jun-96",
          "Jul-96",
          "Aug-96",
          "Sep-96",
          "Oct-96",
          "Nov-96",
          "Dec-96",
          "Jan-97",
          "Feb-97",
          "Mar-97",
          "Apr-97",
          "May-97",
          "Jun-97",
          "Jul-97",
          "Aug-97",
          "Sep-97",
          "Oct-97",
          "Nov-97",
          "Dec-97",
          "Jan-98",
          "Feb-98",
          "Mar-98",
          "Apr-98",
          "May-98",
          "Jun-98",
          "Jul-98",
          "Aug-98",
          "Sep-98",
          "Oct-98",
          "Nov-98",
          "Dec-98",
          "Jan-99",
          "Feb-99",
          "Mar-99",
          "Apr-99",
          "May-99",
          "Jun-99",
          "Jul-99",
          "Aug-99",
          "Sep-99",
          "Oct-99",
          "Nov-99",
          "Dec-99",
          "Jan-00",
          "Feb-00",
          "Mar-00",
          "Apr-00",
          "May-00",
          "Jun-00",
          "Jul-00",
          "Aug-00",
          "Sep-00",
          "Oct-00",
          "Nov-00",
          "Dec-00"
         ],
         "z": [
          [
           405.3380033023863,
           405.2922428916853,
           405.66458158464775,
           407.0628814955453,
           408.63999690583563,
           411.26985313750635,
           415.70515097286795,
           424.66329620474977
          ],
          [
           398.9721778854559,
           399.08981962271207,
           399.9796317568177,
           401.29260534482125,
           402.70562790617504,
           406.2298796570111,
           412.9624007770269,
           425.75261760070873
          ],
          [
           396.57954397910146,
           396.33064609300527,
           395.8082393203176,
           396.79873857457875,
           398.4,
           401.83384891273596,
           409.2730775945396,
           423.89727673080336
          ],
          [
           388.8093170568445,
           389.35335213302784,
           391.9,
           393.58296422649516,
           394.66330296688426,
           398.08611088385595,
           405.2358556208844,
           420.1543977538894
          ],
          [
           390.27141374039917,
           390.30946811552957,
           391.0224813369905,
           392.6,
           394.4,
           398.91110294835386,
           407.37197367279424,
           424.2214485580035
          ],
          [
           378.4709797910631,
           378.682550773108,
           379.9963794404414,
           381.5040244257227,
           382.85845500688265,
           386.57120657035995,
           394.0277147951128,
           409.48134417016246
          ],
          [
           384.6827218367286,
           385.18004197295846,
           387.57540098384766,
           389.2889028572627,
           390.4612755495406,
           394.46492516300617,
           402.434274840635,
           419.2099422056912
          ],
          [
           386.20094163531735,
           386.2711889766811,
           386.9705442346965,
           388.25167726038916,
           389.7783233972415,
           393.8592128555121,
           401.8661249553382,
           418.5100211488057
          ],
          [
           376.621738512312,
           376.7380336773444,
           377.7,
           379.1489506266904,
           380.54127527018045,
           383.4690643183369,
           390.49543904021266,
           406.3227527640837
          ],
          [
           377.0759719462153,
           377.26183455788333,
           378.2384587893441,
           379.15786009963904,
           380.06661781365926,
           383.2,
           390.04734123257543,
           404.51579063829985
          ],
          [
           373.93766326332593,
           373.68220334967106,
           372.9994703594675,
           373.6441459083162,
           374.9178287394664,
           377.9653700148827,
           384.77777916349856,
           399.2930899569897
          ],
          [
           368.1696486811392,
           368.11683167865476,
           368.3,
           369.27849997642414,
           370.44170294213114,
           373.88220507553245,
           381.02828369267456,
           395.92009602714165
          ],
          [
           344.9857376757205,
           344.9478060718933,
           344.91362456712335,
           345.2921662878963,
           346.0620916922926,
           349.4898695434975,
           356.57420788745617,
           371.52859052283793
          ],
          [
           365.2257072154321,
           365.08532915565144,
           364.69310398735627,
           365.1,
           366.10819922835447,
           369.66069214834323,
           377.46909329325365,
           392.81499330484894
          ],
          [
           351.1796491861607,
           351.03597052825376,
           351.02424550000336,
           352.3573383124794,
           354.10735630094837,
           357.829220879377,
           366.3709586154892,
           383.3300047197077
          ],
          [
           338.80544602456877,
           338.9787241298624,
           340.04193532755,
           341.28169784349166,
           342.4961055284816,
           346.1701858486043,
           354.1323210659913,
           370.5364309019631
          ],
          [
           344.4337330678246,
           344.4317647590073,
           344.85790088328014,
           346.05292375913956,
           347.5,
           351.2130900136948,
           358.9149433660626,
           375.361193338647
          ],
          [
           333.1388335033933,
           333.28194181975954,
           334.2,
           335.3383120447957,
           336.4896607386666,
           339.87978520429357,
           347.1133413997698,
           362.386839874846
          ],
          [
           323.41501994942604,
           323.4898723338571,
           324.1650296403806,
           325.27951865894005,
           326.462635542057,
           329.66820664239816,
           336.08387936013037,
           349.6896521280595
          ],
          [
           323.7176765771745,
           323.8243839389483,
           324.5292897825878,
           325.4378843686441,
           326.37757523041466,
           329.07099850162393,
           335.1550892537831,
           349.1454604393917
          ],
          [
           334.2508435669441,
           334.15963250239827,
           334.3,
           335.4908299971133,
           336.86270043954636,
           338.99616783146377,
           344.83484579722693,
           357.8375645095873
          ],
          [
           310.7385365095428,
           310.83370243507517,
           311.4148008630363,
           312.1,
           312.8018938313209,
           315.3,
           321.30167875923433,
           333.5780612015277
          ],
          [
           298.1692765151141,
           297.8629941709631,
           296.920397589582,
           297.36364150809476,
           298.5231929907619,
           301.3454944505451,
           307.4901212741518,
           320.1548331538498
          ],
          [
           288.46826459169864,
           288.57673466941594,
           289.22523378759064,
           289.975308867037,
           290.7558011173715,
           293.6676253583792,
           299.55985221281713,
           311.5357553049651
          ],
          [
           302.6443766382023,
           302.6565889302646,
           302.9534981589547,
           303.68634122812085,
           304.63278534009464,
           307.44639840482387,
           312.79284279288674,
           323.1485053542411
          ],
          [
           298.1569619948999,
           298.29703106294437,
           299.13226106980113,
           300.0695082490548,
           300.9774079781468,
           303.8363374361638,
           309.4091242753125,
           319.9804569891307
          ],
          [
           299.9862973318071,
           299.9930408891737,
           300.5353371904894,
           301.90261150122444,
           303.3887473854813,
           306.34700888949413,
           312.0335962652109,
           322.9857987526236
          ],
          [
           305.87984241447623,
           306.01031899713337,
           306.8713474843468,
           307.9749460962112,
           309.102968839101,
           312.2326417779116,
           317.98310639001755,
           329.3754426681655
          ],
          [
           292.33851239342505,
           292.2403048101713,
           292.32284754545793,
           293.49885599429587,
           295.0516170032456,
           298.27662375206444,
           303.6297540318805,
           314.35077085995914
          ],
          [
           295.89344487552194,
           296.0454281296871,
           297,
           298.1374749462491,
           299.2368920692572,
           302.11024280267,
           307.4736103983002,
           317.71244165543254
          ],
          [
           285.28180067177516,
           285.44010658161295,
           286.37136563679627,
           287.4,
           288.4,
           291.3945921936681,
           297.0139705818972,
           307.2712455801927
          ],
          [
           275.54410840392745,
           275.5213957477062,
           275.7177491806977,
           276.5343943668371,
           277.6879645023855,
           280.6551630312424,
           285.94192477638177,
           300.2352055144539
          ],
          [
           294.638882967137,
           294.92114636601826,
           296.4543608465696,
           297.8667099528067,
           298.96680316408845,
           301.5757536631634,
           306.26137954952554,
           313.9410949537967
          ],
          [
           292.32508623277056,
           292.3598189770226,
           292.79100776759185,
           293.6664008410359,
           294.72906298900944,
           297.37536563414915,
           301.6320824072149,
           308.62431840997857
          ],
          [
           291.73933955389947,
           291.79382242484456,
           292.5,
           293.8484257759272,
           295.22305050696673,
           297.9737183564592,
           302.93759463388943,
           312.35968872673504
          ],
          [
           286.86074656434613,
           287.0568867978346,
           288.1843456681552,
           289.3441456067057,
           290.3416961387183,
           292.9,
           297.93310810305246,
           307.07792172734105
          ],
          [
           286.0264829698493,
           286.03336519663105,
           286.361768820382,
           287.2,
           288.2,
           290.9134981383458,
           296.00221702322665,
           305.13939218100495
          ],
          [
           286.74329337258683,
           286.8366461504078,
           287.44894664054897,
           288.2447511550898,
           289.0999120008656,
           291.9060354246861,
           296.9763134442103,
           308.0149378903971
          ],
          [
           278.66338341104205,
           278.83681918519164,
           279.8376436037147,
           280.9020051545185,
           281.9,
           284.8829024149346,
           289.9172681524088,
           300.82288695556633
          ],
          [
           285.84721950716374,
           286.00884530523473,
           286.89757248993516,
           287.8,
           288.7,
           291.5677355542233,
           297.00107660128975,
           308.4368876168254
          ],
          [
           269.36005920477254,
           269.51405539893767,
           270.34174879809234,
           271.14888763957117,
           271.94264115327724,
           274.8825089707724,
           280.21117047115195,
           292.1529985380368
          ],
          [
           262.7033087149555,
           262.75819924699323,
           263.1150347588327,
           263.61883392976927,
           264.27466111986854,
           266.65336741372,
           271.7480733745547,
           283.79472231967276
          ],
          [
           256.12584031609873,
           256.2737888053566,
           256.91813334448767,
           257.2908642980211,
           257.6,
           259.29992381661566,
           264.1441225375167,
           275.80292197664824
          ],
          [
           254.12923884605695,
           254.42759254987274,
           255.84327451494505,
           256.7391500244837,
           257.1032545848361,
           258.11865578180533,
           262.17157814108333,
           272.5225053578034
          ],
          [
           297.2824485832599,
           297.35465447936906,
           297.9548882212336,
           298.81185598827915,
           299.5,
           300.4055744903586,
           303.1092483363862,
           310.8541344715915
          ],
          [
           298.0252321847057,
           298.2297989661357,
           299.314201223274,
           300.2727223082662,
           301.01303197280413,
           303.27276850969537,
           308.25716228490194,
           318.1039301713233
          ],
          [
           290.1436740728959,
           290.0289648967661,
           290.1264292231032,
           291.4552742560959,
           293.09793446103106,
           296.2542095845177,
           302.90503744147617,
           315.49235392270094
          ],
          [
           287.3294379478486,
           287.50443898445417,
           288.5396346159699,
           289.672547536505,
           290.7238484453639,
           293.73338274391483,
           299.96374486776585,
           312.5751562039711
          ],
          [
           282.32474163438695,
           282.43432476143647,
           283.3751062374236,
           284.85154409452986,
           286.3380500238072,
           289.8770550364326,
           297.30142899932986,
           312.12719744521314
          ],
          [
           289.49967421040816,
           289.97736605748776,
           292.4,
           294.30096482243584,
           295.53643037693405,
           299.0667898529646,
           306.44788343174906,
           321.53939838483114
          ],
          [
           276.9701105009602,
           277.19882110447475,
           278.5567757331283,
           280.04228784562787,
           281.4,
           285.20691624522533,
           292.5937323533818,
           307.49072717137835
          ],
          [
           271.5302563432276,
           271.7696451348759,
           273.15191473009867,
           274.60858302683675,
           275.9347085189853,
           279.9581664945486,
           287.7231755091437,
           302.88718501365634
          ],
          [
           269.9932029538148,
           270.2587848834482,
           271.7552695519757,
           273.2978655540069,
           274.75080703240394,
           279.26739500919365,
           287.5772632453684,
           303.96348159395313
          ],
          [
           289.2405246877881,
           289.34793470617575,
           290.17518748901347,
           291.45327493929386,
           292.9334386055114,
           297.4560895328159,
           305.1765305353981,
           321.15228733366945
          ],
          [
           274.52751914193675,
           274.8772069042286,
           276.8,
           278.65631378806,
           280.2515493098321,
           284.4973817631891,
           292.1515908115376,
           307.7018346413106
          ],
          [
           277.0226964484109,
           277.2201552203736,
           278.38996694248556,
           279.6836092561426,
           280.9140312717568,
           284.7,
           292.04260234354814,
           307.752834438873
          ],
          [
           271.9888528140158,
           272.2179002464643,
           273.6574491114432,
           275.3454995698538,
           276.9,
           280.88508462900154,
           288.1382622420899,
           304.7469050037239
          ],
          [
           263.11944793839234,
           263.39841571868726,
           264.9568167663755,
           266.4938594361918,
           267.80641378638956,
           271.5841622530281,
           278.3517483406861,
           298.4130148187055
          ],
          [
           269.6713280668517,
           269.6613279308037,
           270.17147871810636,
           271.6427388874686,
           273.3530612725133,
           277.25188594450356,
           283.8175923969712,
           313.69035026237196
          ],
          [
           269.74183681284217,
           270.06778462874297,
           271.87145508803155,
           273.6,
           275.0032513559667,
           278.5638580779765,
           284.2800825020392,
           312.8320076135881
          ]
         ]
        }
       ],
       "layout": {
        "autosize": true,
        "height": 600,
        "margin": {
         "b": 65,
         "l": 65,
         "r": 50,
         "t": 90
        },
        "scene": {
         "aspectmode": "manual",
         "aspectratio": {
          "x": 2,
          "y": 4,
          "z": 1
         },
         "xaxis": {
          "title": {
           "text": "Days to Maturity"
          }
         },
         "yaxis": {
          "title": {
           "text": "Date"
          }
         },
         "zaxis": {
          "title": {
           "text": "Price"
          }
         }
        },
        "template": {
         "data": {
          "bar": [
           {
            "error_x": {
             "color": "#2a3f5f"
            },
            "error_y": {
             "color": "#2a3f5f"
            },
            "marker": {
             "line": {
              "color": "#E5ECF6",
              "width": 0.5
             }
            },
            "type": "bar"
           }
          ],
          "barpolar": [
           {
            "marker": {
             "line": {
              "color": "#E5ECF6",
              "width": 0.5
             }
            },
            "type": "barpolar"
           }
          ],
          "carpet": [
           {
            "aaxis": {
             "endlinecolor": "#2a3f5f",
             "gridcolor": "white",
             "linecolor": "white",
             "minorgridcolor": "white",
             "startlinecolor": "#2a3f5f"
            },
            "baxis": {
             "endlinecolor": "#2a3f5f",
             "gridcolor": "white",
             "linecolor": "white",
             "minorgridcolor": "white",
             "startlinecolor": "#2a3f5f"
            },
            "type": "carpet"
           }
          ],
          "choropleth": [
           {
            "colorbar": {
             "outlinewidth": 0,
             "ticks": ""
            },
            "type": "choropleth"
           }
          ],
          "contour": [
           {
            "colorbar": {
             "outlinewidth": 0,
             "ticks": ""
            },
            "colorscale": [
             [
              0,
              "#0d0887"
             ],
             [
              0.1111111111111111,
              "#46039f"
             ],
             [
              0.2222222222222222,
              "#7201a8"
             ],
             [
              0.3333333333333333,
              "#9c179e"
             ],
             [
              0.4444444444444444,
              "#bd3786"
             ],
             [
              0.5555555555555556,
              "#d8576b"
             ],
             [
              0.6666666666666666,
              "#ed7953"
             ],
             [
              0.7777777777777778,
              "#fb9f3a"
             ],
             [
              0.8888888888888888,
              "#fdca26"
             ],
             [
              1,
              "#f0f921"
             ]
            ],
            "type": "contour"
           }
          ],
          "contourcarpet": [
           {
            "colorbar": {
             "outlinewidth": 0,
             "ticks": ""
            },
            "type": "contourcarpet"
           }
          ],
          "heatmap": [
           {
            "colorbar": {
             "outlinewidth": 0,
             "ticks": ""
            },
            "colorscale": [
             [
              0,
              "#0d0887"
             ],
             [
              0.1111111111111111,
              "#46039f"
             ],
             [
              0.2222222222222222,
              "#7201a8"
             ],
             [
              0.3333333333333333,
              "#9c179e"
             ],
             [
              0.4444444444444444,
              "#bd3786"
             ],
             [
              0.5555555555555556,
              "#d8576b"
             ],
             [
              0.6666666666666666,
              "#ed7953"
             ],
             [
              0.7777777777777778,
              "#fb9f3a"
             ],
             [
              0.8888888888888888,
              "#fdca26"
             ],
             [
              1,
              "#f0f921"
             ]
            ],
            "type": "heatmap"
           }
          ],
          "heatmapgl": [
           {
            "colorbar": {
             "outlinewidth": 0,
             "ticks": ""
            },
            "colorscale": [
             [
              0,
              "#0d0887"
             ],
             [
              0.1111111111111111,
              "#46039f"
             ],
             [
              0.2222222222222222,
              "#7201a8"
             ],
             [
              0.3333333333333333,
              "#9c179e"
             ],
             [
              0.4444444444444444,
              "#bd3786"
             ],
             [
              0.5555555555555556,
              "#d8576b"
             ],
             [
              0.6666666666666666,
              "#ed7953"
             ],
             [
              0.7777777777777778,
              "#fb9f3a"
             ],
             [
              0.8888888888888888,
              "#fdca26"
             ],
             [
              1,
              "#f0f921"
             ]
            ],
            "type": "heatmapgl"
           }
          ],
          "histogram": [
           {
            "marker": {
             "colorbar": {
              "outlinewidth": 0,
              "ticks": ""
             }
            },
            "type": "histogram"
           }
          ],
          "histogram2d": [
           {
            "colorbar": {
             "outlinewidth": 0,
             "ticks": ""
            },
            "colorscale": [
             [
              0,
              "#0d0887"
             ],
             [
              0.1111111111111111,
              "#46039f"
             ],
             [
              0.2222222222222222,
              "#7201a8"
             ],
             [
              0.3333333333333333,
              "#9c179e"
             ],
             [
              0.4444444444444444,
              "#bd3786"
             ],
             [
              0.5555555555555556,
              "#d8576b"
             ],
             [
              0.6666666666666666,
              "#ed7953"
             ],
             [
              0.7777777777777778,
              "#fb9f3a"
             ],
             [
              0.8888888888888888,
              "#fdca26"
             ],
             [
              1,
              "#f0f921"
             ]
            ],
            "type": "histogram2d"
           }
          ],
          "histogram2dcontour": [
           {
            "colorbar": {
             "outlinewidth": 0,
             "ticks": ""
            },
            "colorscale": [
             [
              0,
              "#0d0887"
             ],
             [
              0.1111111111111111,
              "#46039f"
             ],
             [
              0.2222222222222222,
              "#7201a8"
             ],
             [
              0.3333333333333333,
              "#9c179e"
             ],
             [
              0.4444444444444444,
              "#bd3786"
             ],
             [
              0.5555555555555556,
              "#d8576b"
             ],
             [
              0.6666666666666666,
              "#ed7953"
             ],
             [
              0.7777777777777778,
              "#fb9f3a"
             ],
             [
              0.8888888888888888,
              "#fdca26"
             ],
             [
              1,
              "#f0f921"
             ]
            ],
            "type": "histogram2dcontour"
           }
          ],
          "mesh3d": [
           {
            "colorbar": {
             "outlinewidth": 0,
             "ticks": ""
            },
            "type": "mesh3d"
           }
          ],
          "parcoords": [
           {
            "line": {
             "colorbar": {
              "outlinewidth": 0,
              "ticks": ""
             }
            },
            "type": "parcoords"
           }
          ],
          "pie": [
           {
            "automargin": true,
            "type": "pie"
           }
          ],
          "scatter": [
           {
            "marker": {
             "colorbar": {
              "outlinewidth": 0,
              "ticks": ""
             }
            },
            "type": "scatter"
           }
          ],
          "scatter3d": [
           {
            "line": {
             "colorbar": {
              "outlinewidth": 0,
              "ticks": ""
             }
            },
            "marker": {
             "colorbar": {
              "outlinewidth": 0,
              "ticks": ""
             }
            },
            "type": "scatter3d"
           }
          ],
          "scattercarpet": [
           {
            "marker": {
             "colorbar": {
              "outlinewidth": 0,
              "ticks": ""
             }
            },
            "type": "scattercarpet"
           }
          ],
          "scattergeo": [
           {
            "marker": {
             "colorbar": {
              "outlinewidth": 0,
              "ticks": ""
             }
            },
            "type": "scattergeo"
           }
          ],
          "scattergl": [
           {
            "marker": {
             "colorbar": {
              "outlinewidth": 0,
              "ticks": ""
             }
            },
            "type": "scattergl"
           }
          ],
          "scattermapbox": [
           {
            "marker": {
             "colorbar": {
              "outlinewidth": 0,
              "ticks": ""
             }
            },
            "type": "scattermapbox"
           }
          ],
          "scatterpolar": [
           {
            "marker": {
             "colorbar": {
              "outlinewidth": 0,
              "ticks": ""
             }
            },
            "type": "scatterpolar"
           }
          ],
          "scatterpolargl": [
           {
            "marker": {
             "colorbar": {
              "outlinewidth": 0,
              "ticks": ""
             }
            },
            "type": "scatterpolargl"
           }
          ],
          "scatterternary": [
           {
            "marker": {
             "colorbar": {
              "outlinewidth": 0,
              "ticks": ""
             }
            },
            "type": "scatterternary"
           }
          ],
          "surface": [
           {
            "colorbar": {
             "outlinewidth": 0,
             "ticks": ""
            },
            "colorscale": [
             [
              0,
              "#0d0887"
             ],
             [
              0.1111111111111111,
              "#46039f"
             ],
             [
              0.2222222222222222,
              "#7201a8"
             ],
             [
              0.3333333333333333,
              "#9c179e"
             ],
             [
              0.4444444444444444,
              "#bd3786"
             ],
             [
              0.5555555555555556,
              "#d8576b"
             ],
             [
              0.6666666666666666,
              "#ed7953"
             ],
             [
              0.7777777777777778,
              "#fb9f3a"
             ],
             [
              0.8888888888888888,
              "#fdca26"
             ],
             [
              1,
              "#f0f921"
             ]
            ],
            "type": "surface"
           }
          ],
          "table": [
           {
            "cells": {
             "fill": {
              "color": "#EBF0F8"
             },
             "line": {
              "color": "white"
             }
            },
            "header": {
             "fill": {
              "color": "#C8D4E3"
             },
             "line": {
              "color": "white"
             }
            },
            "type": "table"
           }
          ]
         },
         "layout": {
          "annotationdefaults": {
           "arrowcolor": "#2a3f5f",
           "arrowhead": 0,
           "arrowwidth": 1
          },
          "coloraxis": {
           "colorbar": {
            "outlinewidth": 0,
            "ticks": ""
           }
          },
          "colorscale": {
           "diverging": [
            [
             0,
             "#8e0152"
            ],
            [
             0.1,
             "#c51b7d"
            ],
            [
             0.2,
             "#de77ae"
            ],
            [
             0.3,
             "#f1b6da"
            ],
            [
             0.4,
             "#fde0ef"
            ],
            [
             0.5,
             "#f7f7f7"
            ],
            [
             0.6,
             "#e6f5d0"
            ],
            [
             0.7,
             "#b8e186"
            ],
            [
             0.8,
             "#7fbc41"
            ],
            [
             0.9,
             "#4d9221"
            ],
            [
             1,
             "#276419"
            ]
           ],
           "sequential": [
            [
             0,
             "#0d0887"
            ],
            [
             0.1111111111111111,
             "#46039f"
            ],
            [
             0.2222222222222222,
             "#7201a8"
            ],
            [
             0.3333333333333333,
             "#9c179e"
            ],
            [
             0.4444444444444444,
             "#bd3786"
            ],
            [
             0.5555555555555556,
             "#d8576b"
            ],
            [
             0.6666666666666666,
             "#ed7953"
            ],
            [
             0.7777777777777778,
             "#fb9f3a"
            ],
            [
             0.8888888888888888,
             "#fdca26"
            ],
            [
             1,
             "#f0f921"
            ]
           ],
           "sequentialminus": [
            [
             0,
             "#0d0887"
            ],
            [
             0.1111111111111111,
             "#46039f"
            ],
            [
             0.2222222222222222,
             "#7201a8"
            ],
            [
             0.3333333333333333,
             "#9c179e"
            ],
            [
             0.4444444444444444,
             "#bd3786"
            ],
            [
             0.5555555555555556,
             "#d8576b"
            ],
            [
             0.6666666666666666,
             "#ed7953"
            ],
            [
             0.7777777777777778,
             "#fb9f3a"
            ],
            [
             0.8888888888888888,
             "#fdca26"
            ],
            [
             1,
             "#f0f921"
            ]
           ]
          },
          "colorway": [
           "#636efa",
           "#EF553B",
           "#00cc96",
           "#ab63fa",
           "#FFA15A",
           "#19d3f3",
           "#FF6692",
           "#B6E880",
           "#FF97FF",
           "#FECB52"
          ],
          "font": {
           "color": "#2a3f5f"
          },
          "geo": {
           "bgcolor": "white",
           "lakecolor": "white",
           "landcolor": "#E5ECF6",
           "showlakes": true,
           "showland": true,
           "subunitcolor": "white"
          },
          "hoverlabel": {
           "align": "left"
          },
          "hovermode": "closest",
          "mapbox": {
           "style": "light"
          },
          "paper_bgcolor": "white",
          "plot_bgcolor": "#E5ECF6",
          "polar": {
           "angularaxis": {
            "gridcolor": "white",
            "linecolor": "white",
            "ticks": ""
           },
           "bgcolor": "#E5ECF6",
           "radialaxis": {
            "gridcolor": "white",
            "linecolor": "white",
            "ticks": ""
           }
          },
          "scene": {
           "xaxis": {
            "backgroundcolor": "#E5ECF6",
            "gridcolor": "white",
            "gridwidth": 2,
            "linecolor": "white",
            "showbackground": true,
            "ticks": "",
            "zerolinecolor": "white"
           },
           "yaxis": {
            "backgroundcolor": "#E5ECF6",
            "gridcolor": "white",
            "gridwidth": 2,
            "linecolor": "white",
            "showbackground": true,
            "ticks": "",
            "zerolinecolor": "white"
           },
           "zaxis": {
            "backgroundcolor": "#E5ECF6",
            "gridcolor": "white",
            "gridwidth": 2,
            "linecolor": "white",
            "showbackground": true,
            "ticks": "",
            "zerolinecolor": "white"
           }
          },
          "shapedefaults": {
           "line": {
            "color": "#2a3f5f"
           }
          },
          "ternary": {
           "aaxis": {
            "gridcolor": "white",
            "linecolor": "white",
            "ticks": ""
           },
           "baxis": {
            "gridcolor": "white",
            "linecolor": "white",
            "ticks": ""
           },
           "bgcolor": "#E5ECF6",
           "caxis": {
            "gridcolor": "white",
            "linecolor": "white",
            "ticks": ""
           }
          },
          "title": {
           "x": 0.05
          },
          "xaxis": {
           "automargin": true,
           "gridcolor": "white",
           "linecolor": "white",
           "ticks": "",
           "title": {
            "standoff": 15
           },
           "zerolinecolor": "white",
           "zerolinewidth": 2
          },
          "yaxis": {
           "automargin": true,
           "gridcolor": "white",
           "linecolor": "white",
           "ticks": "",
           "title": {
            "standoff": 15
           },
           "zerolinecolor": "white",
           "zerolinewidth": 2
          }
         }
        },
        "title": {
         "text": "Gold Futures Price Curve"
        },
        "width": 800
       }
      },
      "text/html": [
       "<div>\n",
       "        \n",
       "        \n",
       "            <div id=\"48fbccce-0ad6-40af-b6e7-5ecf12f281e0\" class=\"plotly-graph-div\" style=\"height:600px; width:800px;\"></div>\n",
       "            <script type=\"text/javascript\">\n",
       "                require([\"plotly\"], function(Plotly) {\n",
       "                    window.PLOTLYENV=window.PLOTLYENV || {};\n",
       "                    \n",
       "                if (document.getElementById(\"48fbccce-0ad6-40af-b6e7-5ecf12f281e0\")) {\n",
       "                    Plotly.newPlot(\n",
       "                        '48fbccce-0ad6-40af-b6e7-5ecf12f281e0',\n",
       "                        [{\"type\": \"surface\", \"x\": [1, 5, 30, 60, 90, 180, 360, 720], \"y\": [\"Jan-96\", \"Feb-96\", \"Mar-96\", \"Apr-96\", \"May-96\", \"Jun-96\", \"Jul-96\", \"Aug-96\", \"Sep-96\", \"Oct-96\", \"Nov-96\", \"Dec-96\", \"Jan-97\", \"Feb-97\", \"Mar-97\", \"Apr-97\", \"May-97\", \"Jun-97\", \"Jul-97\", \"Aug-97\", \"Sep-97\", \"Oct-97\", \"Nov-97\", \"Dec-97\", \"Jan-98\", \"Feb-98\", \"Mar-98\", \"Apr-98\", \"May-98\", \"Jun-98\", \"Jul-98\", \"Aug-98\", \"Sep-98\", \"Oct-98\", \"Nov-98\", \"Dec-98\", \"Jan-99\", \"Feb-99\", \"Mar-99\", \"Apr-99\", \"May-99\", \"Jun-99\", \"Jul-99\", \"Aug-99\", \"Sep-99\", \"Oct-99\", \"Nov-99\", \"Dec-99\", \"Jan-00\", \"Feb-00\", \"Mar-00\", \"Apr-00\", \"May-00\", \"Jun-00\", \"Jul-00\", \"Aug-00\", \"Sep-00\", \"Oct-00\", \"Nov-00\", \"Dec-00\"], \"z\": [[405.3380033023863, 405.2922428916853, 405.66458158464775, 407.0628814955453, 408.63999690583563, 411.26985313750635, 415.70515097286795, 424.66329620474977], [398.9721778854559, 399.08981962271207, 399.9796317568177, 401.29260534482125, 402.70562790617504, 406.2298796570111, 412.9624007770269, 425.75261760070873], [396.57954397910146, 396.33064609300527, 395.8082393203176, 396.79873857457875, 398.4, 401.83384891273596, 409.2730775945396, 423.89727673080336], [388.8093170568445, 389.35335213302784, 391.9, 393.58296422649516, 394.66330296688426, 398.08611088385595, 405.2358556208844, 420.1543977538894], [390.27141374039917, 390.30946811552957, 391.0224813369905, 392.6, 394.4, 398.91110294835386, 407.37197367279424, 424.2214485580035], [378.4709797910631, 378.682550773108, 379.9963794404414, 381.5040244257227, 382.85845500688265, 386.57120657035995, 394.0277147951128, 409.48134417016246], [384.6827218367286, 385.18004197295846, 387.57540098384766, 389.2889028572627, 390.4612755495406, 394.46492516300617, 402.434274840635, 419.2099422056912], [386.20094163531735, 386.2711889766811, 386.9705442346965, 388.25167726038916, 389.7783233972415, 393.8592128555121, 401.8661249553382, 418.5100211488057], [376.621738512312, 376.7380336773444, 377.7, 379.1489506266904, 380.54127527018045, 383.4690643183369, 390.49543904021266, 406.3227527640837], [377.0759719462153, 377.26183455788333, 378.2384587893441, 379.15786009963904, 380.06661781365926, 383.2, 390.04734123257543, 404.51579063829985], [373.93766326332593, 373.68220334967106, 372.9994703594675, 373.6441459083162, 374.9178287394664, 377.9653700148827, 384.77777916349856, 399.2930899569897], [368.1696486811392, 368.11683167865476, 368.3, 369.27849997642414, 370.44170294213114, 373.88220507553245, 381.02828369267456, 395.92009602714165], [344.9857376757205, 344.9478060718933, 344.91362456712335, 345.2921662878963, 346.0620916922926, 349.4898695434975, 356.57420788745617, 371.52859052283793], [365.2257072154321, 365.08532915565144, 364.69310398735627, 365.1, 366.10819922835447, 369.66069214834323, 377.46909329325365, 392.81499330484894], [351.1796491861607, 351.03597052825376, 351.02424550000336, 352.3573383124794, 354.10735630094837, 357.829220879377, 366.3709586154892, 383.3300047197077], [338.80544602456877, 338.9787241298624, 340.04193532755, 341.28169784349166, 342.4961055284816, 346.1701858486043, 354.1323210659913, 370.5364309019631], [344.4337330678246, 344.4317647590073, 344.85790088328014, 346.05292375913956, 347.5, 351.2130900136948, 358.9149433660626, 375.361193338647], [333.1388335033933, 333.28194181975954, 334.2, 335.3383120447957, 336.4896607386666, 339.87978520429357, 347.1133413997698, 362.386839874846], [323.41501994942604, 323.4898723338571, 324.1650296403806, 325.27951865894005, 326.462635542057, 329.66820664239816, 336.08387936013037, 349.6896521280595], [323.7176765771745, 323.8243839389483, 324.5292897825878, 325.4378843686441, 326.37757523041466, 329.07099850162393, 335.1550892537831, 349.1454604393917], [334.2508435669441, 334.15963250239827, 334.3, 335.4908299971133, 336.86270043954636, 338.99616783146377, 344.83484579722693, 357.8375645095873], [310.7385365095428, 310.83370243507517, 311.4148008630363, 312.1, 312.8018938313209, 315.3, 321.30167875923433, 333.5780612015277], [298.1692765151141, 297.8629941709631, 296.920397589582, 297.36364150809476, 298.5231929907619, 301.3454944505451, 307.4901212741518, 320.1548331538498], [288.46826459169864, 288.57673466941594, 289.22523378759064, 289.975308867037, 290.7558011173715, 293.6676253583792, 299.55985221281713, 311.5357553049651], [302.6443766382023, 302.6565889302646, 302.9534981589547, 303.68634122812085, 304.63278534009464, 307.44639840482387, 312.79284279288674, 323.1485053542411], [298.1569619948999, 298.29703106294437, 299.13226106980113, 300.0695082490548, 300.9774079781468, 303.8363374361638, 309.4091242753125, 319.9804569891307], [299.9862973318071, 299.9930408891737, 300.5353371904894, 301.90261150122444, 303.3887473854813, 306.34700888949413, 312.0335962652109, 322.9857987526236], [305.87984241447623, 306.01031899713337, 306.8713474843468, 307.9749460962112, 309.102968839101, 312.2326417779116, 317.98310639001755, 329.3754426681655], [292.33851239342505, 292.2403048101713, 292.32284754545793, 293.49885599429587, 295.0516170032456, 298.27662375206444, 303.6297540318805, 314.35077085995914], [295.89344487552194, 296.0454281296871, 297.0, 298.1374749462491, 299.2368920692572, 302.11024280267, 307.4736103983002, 317.71244165543254], [285.28180067177516, 285.44010658161295, 286.37136563679627, 287.4, 288.4, 291.3945921936681, 297.0139705818972, 307.2712455801927], [275.54410840392745, 275.5213957477062, 275.7177491806977, 276.5343943668371, 277.6879645023855, 280.6551630312424, 285.94192477638177, 300.2352055144539], [294.638882967137, 294.92114636601826, 296.4543608465696, 297.8667099528067, 298.96680316408845, 301.5757536631634, 306.26137954952554, 313.9410949537967], [292.32508623277056, 292.3598189770226, 292.79100776759185, 293.6664008410359, 294.72906298900944, 297.37536563414915, 301.6320824072149, 308.62431840997857], [291.73933955389947, 291.79382242484456, 292.5, 293.8484257759272, 295.22305050696673, 297.9737183564592, 302.93759463388943, 312.35968872673504], [286.86074656434613, 287.0568867978346, 288.1843456681552, 289.3441456067057, 290.3416961387183, 292.9, 297.93310810305246, 307.07792172734105], [286.0264829698493, 286.03336519663105, 286.361768820382, 287.2, 288.2, 290.9134981383458, 296.00221702322665, 305.13939218100495], [286.74329337258683, 286.8366461504078, 287.44894664054897, 288.2447511550898, 289.0999120008656, 291.9060354246861, 296.9763134442103, 308.0149378903971], [278.66338341104205, 278.83681918519164, 279.8376436037147, 280.9020051545185, 281.9, 284.8829024149346, 289.9172681524088, 300.82288695556633], [285.84721950716374, 286.00884530523473, 286.89757248993516, 287.8, 288.7, 291.5677355542233, 297.00107660128975, 308.4368876168254], [269.36005920477254, 269.51405539893767, 270.34174879809234, 271.14888763957117, 271.94264115327724, 274.8825089707724, 280.21117047115195, 292.1529985380368], [262.7033087149555, 262.75819924699323, 263.1150347588327, 263.61883392976927, 264.27466111986854, 266.65336741372, 271.7480733745547, 283.79472231967276], [256.12584031609873, 256.2737888053566, 256.91813334448767, 257.2908642980211, 257.6, 259.29992381661566, 264.1441225375167, 275.80292197664824], [254.12923884605695, 254.42759254987274, 255.84327451494505, 256.7391500244837, 257.1032545848361, 258.11865578180533, 262.17157814108333, 272.5225053578034], [297.2824485832599, 297.35465447936906, 297.9548882212336, 298.81185598827915, 299.5, 300.4055744903586, 303.1092483363862, 310.8541344715915], [298.0252321847057, 298.2297989661357, 299.314201223274, 300.2727223082662, 301.01303197280413, 303.27276850969537, 308.25716228490194, 318.1039301713233], [290.1436740728959, 290.0289648967661, 290.1264292231032, 291.4552742560959, 293.09793446103106, 296.2542095845177, 302.90503744147617, 315.49235392270094], [287.3294379478486, 287.50443898445417, 288.5396346159699, 289.672547536505, 290.7238484453639, 293.73338274391483, 299.96374486776585, 312.5751562039711], [282.32474163438695, 282.43432476143647, 283.3751062374236, 284.85154409452986, 286.3380500238072, 289.8770550364326, 297.30142899932986, 312.12719744521314], [289.49967421040816, 289.97736605748776, 292.4, 294.30096482243584, 295.53643037693405, 299.0667898529646, 306.44788343174906, 321.53939838483114], [276.9701105009602, 277.19882110447475, 278.5567757331283, 280.04228784562787, 281.4, 285.20691624522533, 292.5937323533818, 307.49072717137835], [271.5302563432276, 271.7696451348759, 273.15191473009867, 274.60858302683675, 275.9347085189853, 279.9581664945486, 287.7231755091437, 302.88718501365634], [269.9932029538148, 270.2587848834482, 271.7552695519757, 273.2978655540069, 274.75080703240394, 279.26739500919365, 287.5772632453684, 303.96348159395313], [289.2405246877881, 289.34793470617575, 290.17518748901347, 291.45327493929386, 292.9334386055114, 297.4560895328159, 305.1765305353981, 321.15228733366945], [274.52751914193675, 274.8772069042286, 276.8, 278.65631378806, 280.2515493098321, 284.4973817631891, 292.1515908115376, 307.7018346413106], [277.0226964484109, 277.2201552203736, 278.38996694248556, 279.6836092561426, 280.9140312717568, 284.7, 292.04260234354814, 307.752834438873], [271.9888528140158, 272.2179002464643, 273.6574491114432, 275.3454995698538, 276.9, 280.88508462900154, 288.1382622420899, 304.7469050037239], [263.11944793839234, 263.39841571868726, 264.9568167663755, 266.4938594361918, 267.80641378638956, 271.5841622530281, 278.3517483406861, 298.4130148187055], [269.6713280668517, 269.6613279308037, 270.17147871810636, 271.6427388874686, 273.3530612725133, 277.25188594450356, 283.8175923969712, 313.69035026237196], [269.74183681284217, 270.06778462874297, 271.87145508803155, 273.6, 275.0032513559667, 278.5638580779765, 284.2800825020392, 312.8320076135881]]}],\n",
       "                        {\"autosize\": true, \"height\": 600, \"margin\": {\"b\": 65, \"l\": 65, \"r\": 50, \"t\": 90}, \"scene\": {\"aspectmode\": \"manual\", \"aspectratio\": {\"x\": 2, \"y\": 4, \"z\": 1}, \"xaxis\": {\"title\": {\"text\": \"Days to Maturity\"}}, \"yaxis\": {\"title\": {\"text\": \"Date\"}}, \"zaxis\": {\"title\": {\"text\": \"Price\"}}}, \"template\": {\"data\": {\"bar\": [{\"error_x\": {\"color\": \"#2a3f5f\"}, \"error_y\": {\"color\": \"#2a3f5f\"}, \"marker\": {\"line\": {\"color\": \"#E5ECF6\", \"width\": 0.5}}, \"type\": \"bar\"}], \"barpolar\": [{\"marker\": {\"line\": {\"color\": \"#E5ECF6\", \"width\": 0.5}}, \"type\": \"barpolar\"}], \"carpet\": [{\"aaxis\": {\"endlinecolor\": \"#2a3f5f\", \"gridcolor\": \"white\", \"linecolor\": \"white\", \"minorgridcolor\": \"white\", \"startlinecolor\": \"#2a3f5f\"}, \"baxis\": {\"endlinecolor\": \"#2a3f5f\", \"gridcolor\": \"white\", \"linecolor\": \"white\", \"minorgridcolor\": \"white\", \"startlinecolor\": \"#2a3f5f\"}, \"type\": \"carpet\"}], \"choropleth\": [{\"colorbar\": {\"outlinewidth\": 0, \"ticks\": \"\"}, \"type\": \"choropleth\"}], \"contour\": [{\"colorbar\": {\"outlinewidth\": 0, \"ticks\": \"\"}, \"colorscale\": [[0.0, \"#0d0887\"], [0.1111111111111111, \"#46039f\"], [0.2222222222222222, \"#7201a8\"], [0.3333333333333333, \"#9c179e\"], [0.4444444444444444, \"#bd3786\"], [0.5555555555555556, \"#d8576b\"], [0.6666666666666666, \"#ed7953\"], [0.7777777777777778, \"#fb9f3a\"], [0.8888888888888888, \"#fdca26\"], [1.0, \"#f0f921\"]], \"type\": \"contour\"}], \"contourcarpet\": [{\"colorbar\": {\"outlinewidth\": 0, \"ticks\": \"\"}, \"type\": \"contourcarpet\"}], \"heatmap\": [{\"colorbar\": {\"outlinewidth\": 0, \"ticks\": \"\"}, \"colorscale\": [[0.0, \"#0d0887\"], [0.1111111111111111, \"#46039f\"], [0.2222222222222222, \"#7201a8\"], [0.3333333333333333, \"#9c179e\"], [0.4444444444444444, \"#bd3786\"], [0.5555555555555556, \"#d8576b\"], [0.6666666666666666, \"#ed7953\"], [0.7777777777777778, \"#fb9f3a\"], [0.8888888888888888, \"#fdca26\"], [1.0, \"#f0f921\"]], \"type\": \"heatmap\"}], \"heatmapgl\": [{\"colorbar\": {\"outlinewidth\": 0, \"ticks\": \"\"}, \"colorscale\": [[0.0, \"#0d0887\"], [0.1111111111111111, \"#46039f\"], [0.2222222222222222, \"#7201a8\"], [0.3333333333333333, \"#9c179e\"], [0.4444444444444444, \"#bd3786\"], [0.5555555555555556, \"#d8576b\"], [0.6666666666666666, \"#ed7953\"], [0.7777777777777778, \"#fb9f3a\"], [0.8888888888888888, \"#fdca26\"], [1.0, \"#f0f921\"]], \"type\": \"heatmapgl\"}], \"histogram\": [{\"marker\": {\"colorbar\": {\"outlinewidth\": 0, \"ticks\": \"\"}}, \"type\": \"histogram\"}], \"histogram2d\": [{\"colorbar\": {\"outlinewidth\": 0, \"ticks\": \"\"}, \"colorscale\": [[0.0, \"#0d0887\"], [0.1111111111111111, \"#46039f\"], [0.2222222222222222, \"#7201a8\"], [0.3333333333333333, \"#9c179e\"], [0.4444444444444444, \"#bd3786\"], [0.5555555555555556, \"#d8576b\"], [0.6666666666666666, \"#ed7953\"], [0.7777777777777778, \"#fb9f3a\"], [0.8888888888888888, \"#fdca26\"], [1.0, \"#f0f921\"]], \"type\": \"histogram2d\"}], \"histogram2dcontour\": [{\"colorbar\": {\"outlinewidth\": 0, \"ticks\": \"\"}, \"colorscale\": [[0.0, \"#0d0887\"], [0.1111111111111111, \"#46039f\"], [0.2222222222222222, \"#7201a8\"], [0.3333333333333333, \"#9c179e\"], [0.4444444444444444, \"#bd3786\"], [0.5555555555555556, \"#d8576b\"], [0.6666666666666666, \"#ed7953\"], [0.7777777777777778, \"#fb9f3a\"], [0.8888888888888888, \"#fdca26\"], [1.0, \"#f0f921\"]], \"type\": \"histogram2dcontour\"}], \"mesh3d\": [{\"colorbar\": {\"outlinewidth\": 0, \"ticks\": \"\"}, \"type\": \"mesh3d\"}], \"parcoords\": [{\"line\": {\"colorbar\": {\"outlinewidth\": 0, \"ticks\": \"\"}}, \"type\": \"parcoords\"}], \"pie\": [{\"automargin\": true, \"type\": \"pie\"}], \"scatter\": [{\"marker\": {\"colorbar\": {\"outlinewidth\": 0, \"ticks\": \"\"}}, \"type\": \"scatter\"}], \"scatter3d\": [{\"line\": {\"colorbar\": {\"outlinewidth\": 0, \"ticks\": \"\"}}, \"marker\": {\"colorbar\": {\"outlinewidth\": 0, \"ticks\": \"\"}}, \"type\": \"scatter3d\"}], \"scattercarpet\": [{\"marker\": {\"colorbar\": {\"outlinewidth\": 0, \"ticks\": \"\"}}, \"type\": \"scattercarpet\"}], \"scattergeo\": [{\"marker\": {\"colorbar\": {\"outlinewidth\": 0, \"ticks\": \"\"}}, \"type\": \"scattergeo\"}], \"scattergl\": [{\"marker\": {\"colorbar\": {\"outlinewidth\": 0, \"ticks\": \"\"}}, \"type\": \"scattergl\"}], \"scattermapbox\": [{\"marker\": {\"colorbar\": {\"outlinewidth\": 0, \"ticks\": \"\"}}, \"type\": \"scattermapbox\"}], \"scatterpolar\": [{\"marker\": {\"colorbar\": {\"outlinewidth\": 0, \"ticks\": \"\"}}, \"type\": \"scatterpolar\"}], \"scatterpolargl\": [{\"marker\": {\"colorbar\": {\"outlinewidth\": 0, \"ticks\": \"\"}}, \"type\": \"scatterpolargl\"}], \"scatterternary\": [{\"marker\": {\"colorbar\": {\"outlinewidth\": 0, \"ticks\": \"\"}}, \"type\": \"scatterternary\"}], \"surface\": [{\"colorbar\": {\"outlinewidth\": 0, \"ticks\": \"\"}, \"colorscale\": [[0.0, \"#0d0887\"], [0.1111111111111111, \"#46039f\"], [0.2222222222222222, \"#7201a8\"], [0.3333333333333333, \"#9c179e\"], [0.4444444444444444, \"#bd3786\"], [0.5555555555555556, \"#d8576b\"], [0.6666666666666666, \"#ed7953\"], [0.7777777777777778, \"#fb9f3a\"], [0.8888888888888888, \"#fdca26\"], [1.0, \"#f0f921\"]], \"type\": \"surface\"}], \"table\": [{\"cells\": {\"fill\": {\"color\": \"#EBF0F8\"}, \"line\": {\"color\": \"white\"}}, \"header\": {\"fill\": {\"color\": \"#C8D4E3\"}, \"line\": {\"color\": \"white\"}}, \"type\": \"table\"}]}, \"layout\": {\"annotationdefaults\": {\"arrowcolor\": \"#2a3f5f\", \"arrowhead\": 0, \"arrowwidth\": 1}, \"coloraxis\": {\"colorbar\": {\"outlinewidth\": 0, \"ticks\": \"\"}}, \"colorscale\": {\"diverging\": [[0, \"#8e0152\"], [0.1, \"#c51b7d\"], [0.2, \"#de77ae\"], [0.3, \"#f1b6da\"], [0.4, \"#fde0ef\"], [0.5, \"#f7f7f7\"], [0.6, \"#e6f5d0\"], [0.7, \"#b8e186\"], [0.8, \"#7fbc41\"], [0.9, \"#4d9221\"], [1, \"#276419\"]], \"sequential\": [[0.0, \"#0d0887\"], [0.1111111111111111, \"#46039f\"], [0.2222222222222222, \"#7201a8\"], [0.3333333333333333, \"#9c179e\"], [0.4444444444444444, \"#bd3786\"], [0.5555555555555556, \"#d8576b\"], [0.6666666666666666, \"#ed7953\"], [0.7777777777777778, \"#fb9f3a\"], [0.8888888888888888, \"#fdca26\"], [1.0, \"#f0f921\"]], \"sequentialminus\": [[0.0, \"#0d0887\"], [0.1111111111111111, \"#46039f\"], [0.2222222222222222, \"#7201a8\"], [0.3333333333333333, \"#9c179e\"], [0.4444444444444444, \"#bd3786\"], [0.5555555555555556, \"#d8576b\"], [0.6666666666666666, \"#ed7953\"], [0.7777777777777778, \"#fb9f3a\"], [0.8888888888888888, \"#fdca26\"], [1.0, \"#f0f921\"]]}, \"colorway\": [\"#636efa\", \"#EF553B\", \"#00cc96\", \"#ab63fa\", \"#FFA15A\", \"#19d3f3\", \"#FF6692\", \"#B6E880\", \"#FF97FF\", \"#FECB52\"], \"font\": {\"color\": \"#2a3f5f\"}, \"geo\": {\"bgcolor\": \"white\", \"lakecolor\": \"white\", \"landcolor\": \"#E5ECF6\", \"showlakes\": true, \"showland\": true, \"subunitcolor\": \"white\"}, \"hoverlabel\": {\"align\": \"left\"}, \"hovermode\": \"closest\", \"mapbox\": {\"style\": \"light\"}, \"paper_bgcolor\": \"white\", \"plot_bgcolor\": \"#E5ECF6\", \"polar\": {\"angularaxis\": {\"gridcolor\": \"white\", \"linecolor\": \"white\", \"ticks\": \"\"}, \"bgcolor\": \"#E5ECF6\", \"radialaxis\": {\"gridcolor\": \"white\", \"linecolor\": \"white\", \"ticks\": \"\"}}, \"scene\": {\"xaxis\": {\"backgroundcolor\": \"#E5ECF6\", \"gridcolor\": \"white\", \"gridwidth\": 2, \"linecolor\": \"white\", \"showbackground\": true, \"ticks\": \"\", \"zerolinecolor\": \"white\"}, \"yaxis\": {\"backgroundcolor\": \"#E5ECF6\", \"gridcolor\": \"white\", \"gridwidth\": 2, \"linecolor\": \"white\", \"showbackground\": true, \"ticks\": \"\", \"zerolinecolor\": \"white\"}, \"zaxis\": {\"backgroundcolor\": \"#E5ECF6\", \"gridcolor\": \"white\", \"gridwidth\": 2, \"linecolor\": \"white\", \"showbackground\": true, \"ticks\": \"\", \"zerolinecolor\": \"white\"}}, \"shapedefaults\": {\"line\": {\"color\": \"#2a3f5f\"}}, \"ternary\": {\"aaxis\": {\"gridcolor\": \"white\", \"linecolor\": \"white\", \"ticks\": \"\"}, \"baxis\": {\"gridcolor\": \"white\", \"linecolor\": \"white\", \"ticks\": \"\"}, \"bgcolor\": \"#E5ECF6\", \"caxis\": {\"gridcolor\": \"white\", \"linecolor\": \"white\", \"ticks\": \"\"}}, \"title\": {\"x\": 0.05}, \"xaxis\": {\"automargin\": true, \"gridcolor\": \"white\", \"linecolor\": \"white\", \"ticks\": \"\", \"title\": {\"standoff\": 15}, \"zerolinecolor\": \"white\", \"zerolinewidth\": 2}, \"yaxis\": {\"automargin\": true, \"gridcolor\": \"white\", \"linecolor\": \"white\", \"ticks\": \"\", \"title\": {\"standoff\": 15}, \"zerolinecolor\": \"white\", \"zerolinewidth\": 2}}}, \"title\": {\"text\": \"Gold Futures Price Curve\"}, \"width\": 800},\n",
       "                        {\"responsive\": true}\n",
       "                    ).then(function(){\n",
       "                            \n",
       "var gd = document.getElementById('48fbccce-0ad6-40af-b6e7-5ecf12f281e0');\n",
       "var x = new MutationObserver(function (mutations, observer) {{\n",
       "        var display = window.getComputedStyle(gd).display;\n",
       "        if (!display || display === 'none') {{\n",
       "            console.log([gd, 'removed!']);\n",
       "            Plotly.purge(gd);\n",
       "            observer.disconnect();\n",
       "        }}\n",
       "}});\n",
       "\n",
       "// Listen for the removal of the full notebook cells\n",
       "var notebookContainer = gd.closest('#notebook-container');\n",
       "if (notebookContainer) {{\n",
       "    x.observe(notebookContainer, {childList: true});\n",
       "}}\n",
       "\n",
       "// Listen for the clearing of the current output cell\n",
       "var outputEl = gd.closest('.output');\n",
       "if (outputEl) {{\n",
       "    x.observe(outputEl, {childList: true});\n",
       "}}\n",
       "\n",
       "                        })\n",
       "                };\n",
       "                });\n",
       "            </script>\n",
       "        </div>"
      ]
     },
     "metadata": {},
     "output_type": "display_data"
    }
   ],
   "source": [
    "import plotly.graph_objects as go\n",
    "\n",
    "plotdata = const_mat['1996':'2000'].resample('M').fillna('ffill')\n",
    "\n",
    "x = plotdata.columns.levels[1]\n",
    "y = plotdata.index.strftime('%b-%y').tolist()\n",
    "z = plotdata.values\n",
    "\n",
    "fig = go.Figure(data=[go.Surface(x=x,y=y,z=z)])\n",
    "\n",
    "fig.update_layout(title='Gold Futures Price Curve', autosize=True, \n",
    "                  width=800, height=600, \n",
    "                  scene=dict(\n",
    "                      xaxis = dict(\n",
    "                          title = 'Days to Maturity',\n",
    "                      ),\n",
    "                      yaxis = dict(\n",
    "                          title = 'Date',\n",
    "                      ),\n",
    "                      zaxis = dict(\n",
    "                          title = 'Price',\n",
    "                      ),\n",
    "                      aspectmode='manual',\n",
    "                      aspectratio=dict(x=2,y=4,z=1),\n",
    "                   ),\n",
    "                  margin=dict(l=65, r=50, b=65, t=90))\n",
    "\n",
    "fig.show()"
   ]
  },
  {
   "cell_type": "markdown",
   "metadata": {},
   "source": [
    "**Observations**:\n",
    "1. Gold future prices are mostly in contango\n",
    "2. Gold future prices in a decreasing trend between 1996 to 2000"
   ]
  },
  {
   "cell_type": "code",
   "execution_count": 18,
   "metadata": {},
   "outputs": [
    {
     "data": {
      "application/vnd.plotly.v1+json": {
       "config": {
        "plotlyServerURL": "https://plot.ly"
       },
       "data": [
        {
         "type": "surface",
         "x": [
          1,
          5,
          30,
          60,
          90,
          180,
          360,
          720
         ],
         "y": [
          "Jan-96",
          "Feb-96",
          "Mar-96",
          "Apr-96",
          "May-96",
          "Jun-96",
          "Jul-96",
          "Aug-96",
          "Sep-96",
          "Oct-96",
          "Nov-96",
          "Dec-96",
          "Jan-97",
          "Feb-97",
          "Mar-97",
          "Apr-97",
          "May-97",
          "Jun-97",
          "Jul-97",
          "Aug-97",
          "Sep-97",
          "Oct-97",
          "Nov-97",
          "Dec-97",
          "Jan-98",
          "Feb-98",
          "Mar-98",
          "Apr-98",
          "May-98",
          "Jun-98",
          "Jul-98",
          "Aug-98",
          "Sep-98",
          "Oct-98",
          "Nov-98",
          "Dec-98",
          "Jan-99",
          "Feb-99",
          "Mar-99",
          "Apr-99",
          "May-99",
          "Jun-99",
          "Jul-99",
          "Aug-99",
          "Sep-99",
          "Oct-99",
          "Nov-99",
          "Dec-99",
          "Jan-00",
          "Feb-00",
          "Mar-00",
          "Apr-00",
          "May-00",
          "Jun-00",
          "Jul-00",
          "Aug-00",
          "Sep-00",
          "Oct-00",
          "Nov-00",
          "Dec-00"
         ],
         "z": [
          [
           0.06971614356708573,
           0.06800602819359787,
           0.06410494289186719,
           0.06374867528971419,
           0.06413188113012339,
           0.06384484027693402,
           0.06342142561881019,
           0.07860462293508101
          ],
          [
           0.07513082571401813,
           0.07368725213055705,
           0.07040371069001884,
           0.07010591275050371,
           0.0705018839391322,
           0.0703252481697511,
           0.06978861008155075,
           0.08386710614565739
          ],
          [
           0.07372865547219297,
           0.07213633017090106,
           0.06896320336805739,
           0.06858961238444759,
           0.06910265062794795,
           0.06898919487328406,
           0.06845812976798535,
           0.08303577372099562
          ],
          [
           0.07165658363338843,
           0.06987692079358816,
           0.06603180988012851,
           0.06558660854438152,
           0.06605330256212005,
           0.0659880040834498,
           0.06550303385248467,
           0.08106400291827556
          ],
          [
           0.06948781405705123,
           0.06777737109412835,
           0.06411430050529775,
           0.06362249694816632,
           0.0640319950551237,
           0.06404892190215876,
           0.0637020643585381,
           0.07965154709691456
          ],
          [
           0.06933813563482571,
           0.06758425177720775,
           0.0638883248258057,
           0.06342425293752958,
           0.06382818450910052,
           0.06391776313921715,
           0.06350300629482354,
           0.07938897635548635
          ],
          [
           0.06615682027334645,
           0.06483383708881073,
           0.06226146210194885,
           0.06169576795704021,
           0.06188749938619896,
           0.062209517231285864,
           0.06169225527475352,
           0.06274915301606142
          ],
          [
           0.0633735645982857,
           0.06264456112125323,
           0.06188089264699163,
           0.06153342146223227,
           0.06167227472164412,
           0.06202362972193599,
           0.061456680700228375,
           0.062499717304923666
          ],
          [
           0.062218708007865706,
           0.0614836615509999,
           0.060900231890021854,
           0.06072469382350768,
           0.06089969457627169,
           0.06139651478752148,
           0.06093903249098418,
           0.062156668461374104
          ],
          [
           0.0630480623782771,
           0.062371346994282935,
           0.06184423609632028,
           0.061680365284963984,
           0.06187049150585917,
           0.0623992857995972,
           0.061983371535739636,
           0.0632887809395968
          ],
          [
           0.06136143657594654,
           0.0606349742046337,
           0.060077784236834915,
           0.06001730369443708,
           0.06033385888296779,
           0.06104299573260265,
           0.06074044471170838,
           0.06202262082337867
          ],
          [
           0.06241622616689643,
           0.061710625105399104,
           0.06117929104898945,
           0.060996483969815905,
           0.061249076295886766,
           0.06201950166057122,
           0.06178255005541429,
           0.06312240753832556
          ],
          [
           0.06713915082577807,
           0.06625158482483494,
           0.06511188139787673,
           0.0651265415211801,
           0.0653646602809389,
           0.0661954782483259,
           0.06636953886504923,
           0.06817095216504587
          ],
          [
           0.06793866807396713,
           0.06703075541299983,
           0.06575044776952667,
           0.06575333311259618,
           0.06598631146648455,
           0.06663504975661,
           0.06692513833984341,
           0.06828943246608603
          ],
          [
           0.07380098680411372,
           0.07311344524001077,
           0.07188724718407981,
           0.07197125131835701,
           0.07213515470728661,
           0.07280889454640416,
           0.07289629970751796,
           0.07329651080389006
          ],
          [
           0.07382482096971194,
           0.07310798248645269,
           0.07167714908262084,
           0.07175839786021801,
           0.07196104596836873,
           0.07263182543595999,
           0.072518499923915,
           0.07256990781348399
          ],
          [
           0.07773585644848657,
           0.0769665645310544,
           0.0752691738695263,
           0.0753106722253299,
           0.07557860098680913,
           0.07603931481741194,
           0.07576479902933335,
           0.07541934771534953
          ],
          [
           0.08027206774940507,
           0.07950132653127259,
           0.07773118192955905,
           0.07773701025588241,
           0.07797603746859051,
           0.07844580517166579,
           0.0781903384053614,
           0.07798481134369516
          ],
          [
           0.09126868075704694,
           0.09057670772854803,
           0.08891018852295562,
           0.08915201353603475,
           0.0895947004535878,
           0.09009227685751921,
           0.08976613588156301,
           0.08889688183252802
          ],
          [
           0.09662338793718443,
           0.09591903623764361,
           0.09415920093322935,
           0.0943760258559901,
           0.09483647132085327,
           0.09530772601327686,
           0.09515874234908861,
           0.0943555940773368
          ],
          [
           0.09913803296102099,
           0.09859266195850787,
           0.09744258534178055,
           0.09787363903146781,
           0.09837919942001767,
           0.09870086714028646,
           0.09852950842106739,
           0.09750305478685063
          ],
          [
           0.11514645888942797,
           0.11493787574160753,
           0.11469881947474876,
           0.1148867149625162,
           0.1151918900569596,
           0.1155991405289773,
           0.11504436916638328,
           0.11350619296385532
          ],
          [
           0.11758000560595763,
           0.11743474139533333,
           0.1175269857585042,
           0.11764598536720373,
           0.11784839106829009,
           0.11824460209971605,
           0.11779479902744629,
           0.11637098125295042
          ],
          [
           0.12545915769935712,
           0.1253135606628204,
           0.12531322229641928,
           0.1252686849610969,
           0.1253393197070034,
           0.1256792928264242,
           0.12497251220221728,
           0.12327136764168106
          ],
          [
           0.1348704276352095,
           0.13480179610863838,
           0.13496578917519464,
           0.1348575518844686,
           0.13490215622165824,
           0.1350357410397426,
           0.1342985269577458,
           0.1322758829336068
          ],
          [
           0.13696849756016247,
           0.13693098265660347,
           0.13713302764037907,
           0.13698346992974625,
           0.13711379790287043,
           0.13726694463596328,
           0.13632254229541468,
           0.1342442249024
          ],
          [
           0.13550847271333516,
           0.13544448101975626,
           0.13564577802909653,
           0.13558618429201919,
           0.1356928808834069,
           0.13567642170772415,
           0.13452556564887738,
           0.1321851801329559
          ],
          [
           0.1386185797006154,
           0.13857706963702612,
           0.13882767168893462,
           0.13872692996254865,
           0.13878185184364422,
           0.13862523351767891,
           0.13743668663522393,
           0.13478327772829707
          ],
          [
           0.13882313050029868,
           0.1388458233992213,
           0.1392990456572717,
           0.1391982506745553,
           0.13925142226817605,
           0.1392071740350849,
           0.13810081268807173,
           0.13541186031831434
          ],
          [
           0.14588714077210202,
           0.14594919518234478,
           0.14651389211274232,
           0.14620631119567368,
           0.14625063386558532,
           0.1461074932210101,
           0.14489433588574027,
           0.14204002395032772
          ],
          [
           0.14036614522152993,
           0.14046044498584567,
           0.1411326341095716,
           0.14070060432811513,
           0.14065608665869336,
           0.14036656017769095,
           0.13911525862879048,
           0.13645294172220543
          ],
          [
           0.1404558045484135,
           0.14059146425674465,
           0.1414529930131487,
           0.14111696895253414,
           0.14102239080060738,
           0.1406802391178873,
           0.139289284551288,
           0.1363794475430005
          ],
          [
           0.14659364376502662,
           0.14665850986232495,
           0.14732379625070977,
           0.14691089803078172,
           0.14666645343491566,
           0.14613005136785623,
           0.14436947408208792,
           0.14059817364427565
          ],
          [
           0.1377109136636806,
           0.13751526900272526,
           0.13730337931724093,
           0.13681251002132253,
           0.1366502044443957,
           0.13598123863988287,
           0.13431042877395705,
           0.13059875703812593
          ],
          [
           0.13688520539857899,
           0.13669070888162546,
           0.13633805464092227,
           0.1358534722940829,
           0.13568906502222264,
           0.13496206248626,
           0.13330665811763845,
           0.1295494792109361
          ],
          [
           0.13060074007332476,
           0.13042672679224546,
           0.13021333006218044,
           0.1298773274249732,
           0.12979051226814498,
           0.1289470574742875,
           0.1274585919003865,
           0.12372874438202217
          ],
          [
           0.1203117051114186,
           0.12017689491369815,
           0.12011284958956078,
           0.11964403137608816,
           0.1193557384896812,
           0.11855288324316982,
           0.11695171588955441,
           0.11333461669285189
          ],
          [
           0.11737745601106535,
           0.11714863392461893,
           0.11692220945244032,
           0.11642227839840548,
           0.11601168781455873,
           0.11529823980413188,
           0.11386691181438713,
           0.11041835675462641
          ],
          [
           0.1158502286033391,
           0.1155637992634454,
           0.11511370815614325,
           0.11447113627533907,
           0.1140852046658681,
           0.11334898396627432,
           0.11200215196720875,
           0.10888458228514697
          ],
          [
           0.1130424917584586,
           0.11280511481082518,
           0.11249120848864204,
           0.11174435053466772,
           0.11132801802352453,
           0.11064574096415075,
           0.10939998408602224,
           0.10659875550132467
          ],
          [
           0.11394902821603144,
           0.11374764515749143,
           0.11363175739224393,
           0.11302651509526145,
           0.1126521557448818,
           0.11176091152499029,
           0.11056692630489282,
           0.10799694860692795
          ],
          [
           0.10584861274876119,
           0.1056459031365105,
           0.10559331185925787,
           0.10534528051085255,
           0.1049862542806288,
           0.10411533339014596,
           0.10300068361606667,
           0.10031743724619034
          ],
          [
           0.10798240891727746,
           0.10772651631837897,
           0.10754049003976315,
           0.1073077004324679,
           0.1070602620373909,
           0.10645096786357737,
           0.10528790796990026,
           0.1023759970254561
          ],
          [
           0.10420650502834249,
           0.1039729806640004,
           0.10396127138367851,
           0.103571246890711,
           0.10333820213129051,
           0.10273903403225841,
           0.10188370739654777,
           0.10001700821487773
          ],
          [
           0.14880887355465933,
           0.14862428238640885,
           0.14854144824122575,
           0.14827497354900904,
           0.14808470599317425,
           0.14620966262570403,
           0.14216288975032113,
           0.1359983721228764
          ],
          [
           0.16418850007533772,
           0.16402232871249003,
           0.16392134607349573,
           0.16361196545081927,
           0.1633924681550392,
           0.16198327607989735,
           0.15835833394793855,
           0.15275140063386491
          ],
          [
           0.17052285185335292,
           0.17035322781007986,
           0.17019087002070205,
           0.16979069261626134,
           0.169433863042211,
           0.16798758479601517,
           0.16451380787812445,
           0.1592201414308486
          ],
          [
           0.17416351719234435,
           0.17394557157522622,
           0.17368098005916083,
           0.17340331174996637,
           0.1732109603732598,
           0.17190358034652645,
           0.16848056965741137,
           0.16331502374803544
          ],
          [
           0.17554117260967883,
           0.17521050093193702,
           0.1746059043610114,
           0.17438466640300354,
           0.17428299770065872,
           0.1729132508402853,
           0.16954061395893494,
           0.16444908397456812
          ],
          [
           0.20313188725290854,
           0.20276349065173754,
           0.20192533035930627,
           0.20136117091788686,
           0.20109176006429186,
           0.1995717985057584,
           0.19549435134481358,
           0.1891224250868743
          ],
          [
           0.2049771292588909,
           0.20458139697452585,
           0.2036900546701038,
           0.20320766644880728,
           0.20298835201637583,
           0.20140277259295175,
           0.197246332939732,
           0.19074424546304136
          ],
          [
           0.2067468513321337,
           0.20634639231978683,
           0.20547117594674255,
           0.20491986850435107,
           0.2046660354153178,
           0.2030533914639911,
           0.19883490294185685,
           0.19219795321986546
          ],
          [
           0.20542472635973438,
           0.20489594187249738,
           0.2036969080507871,
           0.20313827848815816,
           0.20290345173577348,
           0.20131101783756677,
           0.19700983409487086,
           0.19026946172563552
          ],
          [
           0.21193857946090305,
           0.211329245225262,
           0.20977920823131696,
           0.209088864604579,
           0.20879282750288022,
           0.20707744628421093,
           0.20257538154528007,
           0.1956343407257289
          ],
          [
           0.21227157930810706,
           0.21150857901688364,
           0.209627151350016,
           0.20891742767293717,
           0.20859217123801033,
           0.20671483909841332,
           0.20224889287220588,
           0.1955842699864113
          ],
          [
           0.21318442927349424,
           0.21235814759116614,
           0.21027714290065153,
           0.2095316309339883,
           0.2091230229108543,
           0.2071984170464694,
           0.20256864141723133,
           0.1953704529803412
          ],
          [
           0.20598979842788748,
           0.2051053974680942,
           0.20280753758974884,
           0.20206755378714686,
           0.201624857568367,
           0.19988795274119286,
           0.19595878961917962,
           0.18982427630423251
          ],
          [
           0.16946610821995925,
           0.16839176339967324,
           0.1657513252017992,
           0.16495733035376747,
           0.16455975633875997,
           0.16344139941729766,
           0.1610175862840786,
           0.15689324976648378
          ],
          [
           0.16440471639527382,
           0.16324437297338074,
           0.16041574733623196,
           0.15956163801151904,
           0.15903305233600779,
           0.15779388852104287,
           0.15498061866422508,
           0.1510910194153063
          ],
          [
           0.15980479353569013,
           0.15820984680431951,
           0.15430672203978293,
           0.15345061637583088,
           0.152955541497461,
           0.15150571538508104,
           0.1484470242144986,
           0.1453060006019077
          ]
         ]
        }
       ],
       "layout": {
        "autosize": true,
        "height": 600,
        "margin": {
         "b": 65,
         "l": 65,
         "r": 50,
         "t": 90
        },
        "scene": {
         "aspectmode": "manual",
         "aspectratio": {
          "x": 2,
          "y": 4,
          "z": 1
         },
         "xaxis": {
          "title": {
           "text": "Days to Maturity"
          }
         },
         "yaxis": {
          "title": {
           "text": "Date"
          }
         },
         "zaxis": {
          "title": {
           "text": "Volatility"
          }
         }
        },
        "template": {
         "data": {
          "bar": [
           {
            "error_x": {
             "color": "#2a3f5f"
            },
            "error_y": {
             "color": "#2a3f5f"
            },
            "marker": {
             "line": {
              "color": "#E5ECF6",
              "width": 0.5
             }
            },
            "type": "bar"
           }
          ],
          "barpolar": [
           {
            "marker": {
             "line": {
              "color": "#E5ECF6",
              "width": 0.5
             }
            },
            "type": "barpolar"
           }
          ],
          "carpet": [
           {
            "aaxis": {
             "endlinecolor": "#2a3f5f",
             "gridcolor": "white",
             "linecolor": "white",
             "minorgridcolor": "white",
             "startlinecolor": "#2a3f5f"
            },
            "baxis": {
             "endlinecolor": "#2a3f5f",
             "gridcolor": "white",
             "linecolor": "white",
             "minorgridcolor": "white",
             "startlinecolor": "#2a3f5f"
            },
            "type": "carpet"
           }
          ],
          "choropleth": [
           {
            "colorbar": {
             "outlinewidth": 0,
             "ticks": ""
            },
            "type": "choropleth"
           }
          ],
          "contour": [
           {
            "colorbar": {
             "outlinewidth": 0,
             "ticks": ""
            },
            "colorscale": [
             [
              0,
              "#0d0887"
             ],
             [
              0.1111111111111111,
              "#46039f"
             ],
             [
              0.2222222222222222,
              "#7201a8"
             ],
             [
              0.3333333333333333,
              "#9c179e"
             ],
             [
              0.4444444444444444,
              "#bd3786"
             ],
             [
              0.5555555555555556,
              "#d8576b"
             ],
             [
              0.6666666666666666,
              "#ed7953"
             ],
             [
              0.7777777777777778,
              "#fb9f3a"
             ],
             [
              0.8888888888888888,
              "#fdca26"
             ],
             [
              1,
              "#f0f921"
             ]
            ],
            "type": "contour"
           }
          ],
          "contourcarpet": [
           {
            "colorbar": {
             "outlinewidth": 0,
             "ticks": ""
            },
            "type": "contourcarpet"
           }
          ],
          "heatmap": [
           {
            "colorbar": {
             "outlinewidth": 0,
             "ticks": ""
            },
            "colorscale": [
             [
              0,
              "#0d0887"
             ],
             [
              0.1111111111111111,
              "#46039f"
             ],
             [
              0.2222222222222222,
              "#7201a8"
             ],
             [
              0.3333333333333333,
              "#9c179e"
             ],
             [
              0.4444444444444444,
              "#bd3786"
             ],
             [
              0.5555555555555556,
              "#d8576b"
             ],
             [
              0.6666666666666666,
              "#ed7953"
             ],
             [
              0.7777777777777778,
              "#fb9f3a"
             ],
             [
              0.8888888888888888,
              "#fdca26"
             ],
             [
              1,
              "#f0f921"
             ]
            ],
            "type": "heatmap"
           }
          ],
          "heatmapgl": [
           {
            "colorbar": {
             "outlinewidth": 0,
             "ticks": ""
            },
            "colorscale": [
             [
              0,
              "#0d0887"
             ],
             [
              0.1111111111111111,
              "#46039f"
             ],
             [
              0.2222222222222222,
              "#7201a8"
             ],
             [
              0.3333333333333333,
              "#9c179e"
             ],
             [
              0.4444444444444444,
              "#bd3786"
             ],
             [
              0.5555555555555556,
              "#d8576b"
             ],
             [
              0.6666666666666666,
              "#ed7953"
             ],
             [
              0.7777777777777778,
              "#fb9f3a"
             ],
             [
              0.8888888888888888,
              "#fdca26"
             ],
             [
              1,
              "#f0f921"
             ]
            ],
            "type": "heatmapgl"
           }
          ],
          "histogram": [
           {
            "marker": {
             "colorbar": {
              "outlinewidth": 0,
              "ticks": ""
             }
            },
            "type": "histogram"
           }
          ],
          "histogram2d": [
           {
            "colorbar": {
             "outlinewidth": 0,
             "ticks": ""
            },
            "colorscale": [
             [
              0,
              "#0d0887"
             ],
             [
              0.1111111111111111,
              "#46039f"
             ],
             [
              0.2222222222222222,
              "#7201a8"
             ],
             [
              0.3333333333333333,
              "#9c179e"
             ],
             [
              0.4444444444444444,
              "#bd3786"
             ],
             [
              0.5555555555555556,
              "#d8576b"
             ],
             [
              0.6666666666666666,
              "#ed7953"
             ],
             [
              0.7777777777777778,
              "#fb9f3a"
             ],
             [
              0.8888888888888888,
              "#fdca26"
             ],
             [
              1,
              "#f0f921"
             ]
            ],
            "type": "histogram2d"
           }
          ],
          "histogram2dcontour": [
           {
            "colorbar": {
             "outlinewidth": 0,
             "ticks": ""
            },
            "colorscale": [
             [
              0,
              "#0d0887"
             ],
             [
              0.1111111111111111,
              "#46039f"
             ],
             [
              0.2222222222222222,
              "#7201a8"
             ],
             [
              0.3333333333333333,
              "#9c179e"
             ],
             [
              0.4444444444444444,
              "#bd3786"
             ],
             [
              0.5555555555555556,
              "#d8576b"
             ],
             [
              0.6666666666666666,
              "#ed7953"
             ],
             [
              0.7777777777777778,
              "#fb9f3a"
             ],
             [
              0.8888888888888888,
              "#fdca26"
             ],
             [
              1,
              "#f0f921"
             ]
            ],
            "type": "histogram2dcontour"
           }
          ],
          "mesh3d": [
           {
            "colorbar": {
             "outlinewidth": 0,
             "ticks": ""
            },
            "type": "mesh3d"
           }
          ],
          "parcoords": [
           {
            "line": {
             "colorbar": {
              "outlinewidth": 0,
              "ticks": ""
             }
            },
            "type": "parcoords"
           }
          ],
          "pie": [
           {
            "automargin": true,
            "type": "pie"
           }
          ],
          "scatter": [
           {
            "marker": {
             "colorbar": {
              "outlinewidth": 0,
              "ticks": ""
             }
            },
            "type": "scatter"
           }
          ],
          "scatter3d": [
           {
            "line": {
             "colorbar": {
              "outlinewidth": 0,
              "ticks": ""
             }
            },
            "marker": {
             "colorbar": {
              "outlinewidth": 0,
              "ticks": ""
             }
            },
            "type": "scatter3d"
           }
          ],
          "scattercarpet": [
           {
            "marker": {
             "colorbar": {
              "outlinewidth": 0,
              "ticks": ""
             }
            },
            "type": "scattercarpet"
           }
          ],
          "scattergeo": [
           {
            "marker": {
             "colorbar": {
              "outlinewidth": 0,
              "ticks": ""
             }
            },
            "type": "scattergeo"
           }
          ],
          "scattergl": [
           {
            "marker": {
             "colorbar": {
              "outlinewidth": 0,
              "ticks": ""
             }
            },
            "type": "scattergl"
           }
          ],
          "scattermapbox": [
           {
            "marker": {
             "colorbar": {
              "outlinewidth": 0,
              "ticks": ""
             }
            },
            "type": "scattermapbox"
           }
          ],
          "scatterpolar": [
           {
            "marker": {
             "colorbar": {
              "outlinewidth": 0,
              "ticks": ""
             }
            },
            "type": "scatterpolar"
           }
          ],
          "scatterpolargl": [
           {
            "marker": {
             "colorbar": {
              "outlinewidth": 0,
              "ticks": ""
             }
            },
            "type": "scatterpolargl"
           }
          ],
          "scatterternary": [
           {
            "marker": {
             "colorbar": {
              "outlinewidth": 0,
              "ticks": ""
             }
            },
            "type": "scatterternary"
           }
          ],
          "surface": [
           {
            "colorbar": {
             "outlinewidth": 0,
             "ticks": ""
            },
            "colorscale": [
             [
              0,
              "#0d0887"
             ],
             [
              0.1111111111111111,
              "#46039f"
             ],
             [
              0.2222222222222222,
              "#7201a8"
             ],
             [
              0.3333333333333333,
              "#9c179e"
             ],
             [
              0.4444444444444444,
              "#bd3786"
             ],
             [
              0.5555555555555556,
              "#d8576b"
             ],
             [
              0.6666666666666666,
              "#ed7953"
             ],
             [
              0.7777777777777778,
              "#fb9f3a"
             ],
             [
              0.8888888888888888,
              "#fdca26"
             ],
             [
              1,
              "#f0f921"
             ]
            ],
            "type": "surface"
           }
          ],
          "table": [
           {
            "cells": {
             "fill": {
              "color": "#EBF0F8"
             },
             "line": {
              "color": "white"
             }
            },
            "header": {
             "fill": {
              "color": "#C8D4E3"
             },
             "line": {
              "color": "white"
             }
            },
            "type": "table"
           }
          ]
         },
         "layout": {
          "annotationdefaults": {
           "arrowcolor": "#2a3f5f",
           "arrowhead": 0,
           "arrowwidth": 1
          },
          "coloraxis": {
           "colorbar": {
            "outlinewidth": 0,
            "ticks": ""
           }
          },
          "colorscale": {
           "diverging": [
            [
             0,
             "#8e0152"
            ],
            [
             0.1,
             "#c51b7d"
            ],
            [
             0.2,
             "#de77ae"
            ],
            [
             0.3,
             "#f1b6da"
            ],
            [
             0.4,
             "#fde0ef"
            ],
            [
             0.5,
             "#f7f7f7"
            ],
            [
             0.6,
             "#e6f5d0"
            ],
            [
             0.7,
             "#b8e186"
            ],
            [
             0.8,
             "#7fbc41"
            ],
            [
             0.9,
             "#4d9221"
            ],
            [
             1,
             "#276419"
            ]
           ],
           "sequential": [
            [
             0,
             "#0d0887"
            ],
            [
             0.1111111111111111,
             "#46039f"
            ],
            [
             0.2222222222222222,
             "#7201a8"
            ],
            [
             0.3333333333333333,
             "#9c179e"
            ],
            [
             0.4444444444444444,
             "#bd3786"
            ],
            [
             0.5555555555555556,
             "#d8576b"
            ],
            [
             0.6666666666666666,
             "#ed7953"
            ],
            [
             0.7777777777777778,
             "#fb9f3a"
            ],
            [
             0.8888888888888888,
             "#fdca26"
            ],
            [
             1,
             "#f0f921"
            ]
           ],
           "sequentialminus": [
            [
             0,
             "#0d0887"
            ],
            [
             0.1111111111111111,
             "#46039f"
            ],
            [
             0.2222222222222222,
             "#7201a8"
            ],
            [
             0.3333333333333333,
             "#9c179e"
            ],
            [
             0.4444444444444444,
             "#bd3786"
            ],
            [
             0.5555555555555556,
             "#d8576b"
            ],
            [
             0.6666666666666666,
             "#ed7953"
            ],
            [
             0.7777777777777778,
             "#fb9f3a"
            ],
            [
             0.8888888888888888,
             "#fdca26"
            ],
            [
             1,
             "#f0f921"
            ]
           ]
          },
          "colorway": [
           "#636efa",
           "#EF553B",
           "#00cc96",
           "#ab63fa",
           "#FFA15A",
           "#19d3f3",
           "#FF6692",
           "#B6E880",
           "#FF97FF",
           "#FECB52"
          ],
          "font": {
           "color": "#2a3f5f"
          },
          "geo": {
           "bgcolor": "white",
           "lakecolor": "white",
           "landcolor": "#E5ECF6",
           "showlakes": true,
           "showland": true,
           "subunitcolor": "white"
          },
          "hoverlabel": {
           "align": "left"
          },
          "hovermode": "closest",
          "mapbox": {
           "style": "light"
          },
          "paper_bgcolor": "white",
          "plot_bgcolor": "#E5ECF6",
          "polar": {
           "angularaxis": {
            "gridcolor": "white",
            "linecolor": "white",
            "ticks": ""
           },
           "bgcolor": "#E5ECF6",
           "radialaxis": {
            "gridcolor": "white",
            "linecolor": "white",
            "ticks": ""
           }
          },
          "scene": {
           "xaxis": {
            "backgroundcolor": "#E5ECF6",
            "gridcolor": "white",
            "gridwidth": 2,
            "linecolor": "white",
            "showbackground": true,
            "ticks": "",
            "zerolinecolor": "white"
           },
           "yaxis": {
            "backgroundcolor": "#E5ECF6",
            "gridcolor": "white",
            "gridwidth": 2,
            "linecolor": "white",
            "showbackground": true,
            "ticks": "",
            "zerolinecolor": "white"
           },
           "zaxis": {
            "backgroundcolor": "#E5ECF6",
            "gridcolor": "white",
            "gridwidth": 2,
            "linecolor": "white",
            "showbackground": true,
            "ticks": "",
            "zerolinecolor": "white"
           }
          },
          "shapedefaults": {
           "line": {
            "color": "#2a3f5f"
           }
          },
          "ternary": {
           "aaxis": {
            "gridcolor": "white",
            "linecolor": "white",
            "ticks": ""
           },
           "baxis": {
            "gridcolor": "white",
            "linecolor": "white",
            "ticks": ""
           },
           "bgcolor": "#E5ECF6",
           "caxis": {
            "gridcolor": "white",
            "linecolor": "white",
            "ticks": ""
           }
          },
          "title": {
           "x": 0.05
          },
          "xaxis": {
           "automargin": true,
           "gridcolor": "white",
           "linecolor": "white",
           "ticks": "",
           "title": {
            "standoff": 15
           },
           "zerolinecolor": "white",
           "zerolinewidth": 2
          },
          "yaxis": {
           "automargin": true,
           "gridcolor": "white",
           "linecolor": "white",
           "ticks": "",
           "title": {
            "standoff": 15
           },
           "zerolinecolor": "white",
           "zerolinewidth": 2
          }
         }
        },
        "title": {
         "text": "Gold Futures Price Volatiliy Curve"
        },
        "width": 800
       }
      },
      "text/html": [
       "<div>\n",
       "        \n",
       "        \n",
       "            <div id=\"daff4463-9e26-4246-826e-e62829c95d98\" class=\"plotly-graph-div\" style=\"height:600px; width:800px;\"></div>\n",
       "            <script type=\"text/javascript\">\n",
       "                require([\"plotly\"], function(Plotly) {\n",
       "                    window.PLOTLYENV=window.PLOTLYENV || {};\n",
       "                    \n",
       "                if (document.getElementById(\"daff4463-9e26-4246-826e-e62829c95d98\")) {\n",
       "                    Plotly.newPlot(\n",
       "                        'daff4463-9e26-4246-826e-e62829c95d98',\n",
       "                        [{\"type\": \"surface\", \"x\": [1, 5, 30, 60, 90, 180, 360, 720], \"y\": [\"Jan-96\", \"Feb-96\", \"Mar-96\", \"Apr-96\", \"May-96\", \"Jun-96\", \"Jul-96\", \"Aug-96\", \"Sep-96\", \"Oct-96\", \"Nov-96\", \"Dec-96\", \"Jan-97\", \"Feb-97\", \"Mar-97\", \"Apr-97\", \"May-97\", \"Jun-97\", \"Jul-97\", \"Aug-97\", \"Sep-97\", \"Oct-97\", \"Nov-97\", \"Dec-97\", \"Jan-98\", \"Feb-98\", \"Mar-98\", \"Apr-98\", \"May-98\", \"Jun-98\", \"Jul-98\", \"Aug-98\", \"Sep-98\", \"Oct-98\", \"Nov-98\", \"Dec-98\", \"Jan-99\", \"Feb-99\", \"Mar-99\", \"Apr-99\", \"May-99\", \"Jun-99\", \"Jul-99\", \"Aug-99\", \"Sep-99\", \"Oct-99\", \"Nov-99\", \"Dec-99\", \"Jan-00\", \"Feb-00\", \"Mar-00\", \"Apr-00\", \"May-00\", \"Jun-00\", \"Jul-00\", \"Aug-00\", \"Sep-00\", \"Oct-00\", \"Nov-00\", \"Dec-00\"], \"z\": [[0.06971614356708573, 0.06800602819359787, 0.06410494289186719, 0.06374867528971419, 0.06413188113012339, 0.06384484027693402, 0.06342142561881019, 0.07860462293508101], [0.07513082571401813, 0.07368725213055705, 0.07040371069001884, 0.07010591275050371, 0.0705018839391322, 0.0703252481697511, 0.06978861008155075, 0.08386710614565739], [0.07372865547219297, 0.07213633017090106, 0.06896320336805739, 0.06858961238444759, 0.06910265062794795, 0.06898919487328406, 0.06845812976798535, 0.08303577372099562], [0.07165658363338843, 0.06987692079358816, 0.06603180988012851, 0.06558660854438152, 0.06605330256212005, 0.0659880040834498, 0.06550303385248467, 0.08106400291827556], [0.06948781405705123, 0.06777737109412835, 0.06411430050529775, 0.06362249694816632, 0.0640319950551237, 0.06404892190215876, 0.0637020643585381, 0.07965154709691456], [0.06933813563482571, 0.06758425177720775, 0.0638883248258057, 0.06342425293752958, 0.06382818450910052, 0.06391776313921715, 0.06350300629482354, 0.07938897635548635], [0.06615682027334645, 0.06483383708881073, 0.06226146210194885, 0.06169576795704021, 0.06188749938619896, 0.062209517231285864, 0.06169225527475352, 0.06274915301606142], [0.0633735645982857, 0.06264456112125323, 0.06188089264699163, 0.06153342146223227, 0.06167227472164412, 0.06202362972193599, 0.061456680700228375, 0.062499717304923666], [0.062218708007865706, 0.0614836615509999, 0.060900231890021854, 0.06072469382350768, 0.06089969457627169, 0.06139651478752148, 0.06093903249098418, 0.062156668461374104], [0.0630480623782771, 0.062371346994282935, 0.06184423609632028, 0.061680365284963984, 0.06187049150585917, 0.0623992857995972, 0.061983371535739636, 0.0632887809395968], [0.06136143657594654, 0.0606349742046337, 0.060077784236834915, 0.06001730369443708, 0.06033385888296779, 0.06104299573260265, 0.06074044471170838, 0.06202262082337867], [0.06241622616689643, 0.061710625105399104, 0.06117929104898945, 0.060996483969815905, 0.061249076295886766, 0.06201950166057122, 0.06178255005541429, 0.06312240753832556], [0.06713915082577807, 0.06625158482483494, 0.06511188139787673, 0.0651265415211801, 0.0653646602809389, 0.0661954782483259, 0.06636953886504923, 0.06817095216504587], [0.06793866807396713, 0.06703075541299983, 0.06575044776952667, 0.06575333311259618, 0.06598631146648455, 0.06663504975661, 0.06692513833984341, 0.06828943246608603], [0.07380098680411372, 0.07311344524001077, 0.07188724718407981, 0.07197125131835701, 0.07213515470728661, 0.07280889454640416, 0.07289629970751796, 0.07329651080389006], [0.07382482096971194, 0.07310798248645269, 0.07167714908262084, 0.07175839786021801, 0.07196104596836873, 0.07263182543595999, 0.072518499923915, 0.07256990781348399], [0.07773585644848657, 0.0769665645310544, 0.0752691738695263, 0.0753106722253299, 0.07557860098680913, 0.07603931481741194, 0.07576479902933335, 0.07541934771534953], [0.08027206774940507, 0.07950132653127259, 0.07773118192955905, 0.07773701025588241, 0.07797603746859051, 0.07844580517166579, 0.0781903384053614, 0.07798481134369516], [0.09126868075704694, 0.09057670772854803, 0.08891018852295562, 0.08915201353603475, 0.0895947004535878, 0.09009227685751921, 0.08976613588156301, 0.08889688183252802], [0.09662338793718443, 0.09591903623764361, 0.09415920093322935, 0.0943760258559901, 0.09483647132085327, 0.09530772601327686, 0.09515874234908861, 0.0943555940773368], [0.09913803296102099, 0.09859266195850787, 0.09744258534178055, 0.09787363903146781, 0.09837919942001767, 0.09870086714028646, 0.09852950842106739, 0.09750305478685063], [0.11514645888942797, 0.11493787574160753, 0.11469881947474876, 0.1148867149625162, 0.1151918900569596, 0.1155991405289773, 0.11504436916638328, 0.11350619296385532], [0.11758000560595763, 0.11743474139533333, 0.1175269857585042, 0.11764598536720373, 0.11784839106829009, 0.11824460209971605, 0.11779479902744629, 0.11637098125295042], [0.12545915769935712, 0.1253135606628204, 0.12531322229641928, 0.1252686849610969, 0.1253393197070034, 0.1256792928264242, 0.12497251220221728, 0.12327136764168106], [0.1348704276352095, 0.13480179610863838, 0.13496578917519464, 0.1348575518844686, 0.13490215622165824, 0.1350357410397426, 0.1342985269577458, 0.1322758829336068], [0.13696849756016247, 0.13693098265660347, 0.13713302764037907, 0.13698346992974625, 0.13711379790287043, 0.13726694463596328, 0.13632254229541468, 0.1342442249024], [0.13550847271333516, 0.13544448101975626, 0.13564577802909653, 0.13558618429201919, 0.1356928808834069, 0.13567642170772415, 0.13452556564887738, 0.1321851801329559], [0.1386185797006154, 0.13857706963702612, 0.13882767168893462, 0.13872692996254865, 0.13878185184364422, 0.13862523351767891, 0.13743668663522393, 0.13478327772829707], [0.13882313050029868, 0.1388458233992213, 0.1392990456572717, 0.1391982506745553, 0.13925142226817605, 0.1392071740350849, 0.13810081268807173, 0.13541186031831434], [0.14588714077210202, 0.14594919518234478, 0.14651389211274232, 0.14620631119567368, 0.14625063386558532, 0.1461074932210101, 0.14489433588574027, 0.14204002395032772], [0.14036614522152993, 0.14046044498584567, 0.1411326341095716, 0.14070060432811513, 0.14065608665869336, 0.14036656017769095, 0.13911525862879048, 0.13645294172220543], [0.1404558045484135, 0.14059146425674465, 0.1414529930131487, 0.14111696895253414, 0.14102239080060738, 0.1406802391178873, 0.139289284551288, 0.1363794475430005], [0.14659364376502662, 0.14665850986232495, 0.14732379625070977, 0.14691089803078172, 0.14666645343491566, 0.14613005136785623, 0.14436947408208792, 0.14059817364427565], [0.1377109136636806, 0.13751526900272526, 0.13730337931724093, 0.13681251002132253, 0.1366502044443957, 0.13598123863988287, 0.13431042877395705, 0.13059875703812593], [0.13688520539857899, 0.13669070888162546, 0.13633805464092227, 0.1358534722940829, 0.13568906502222264, 0.13496206248626, 0.13330665811763845, 0.1295494792109361], [0.13060074007332476, 0.13042672679224546, 0.13021333006218044, 0.1298773274249732, 0.12979051226814498, 0.1289470574742875, 0.1274585919003865, 0.12372874438202217], [0.1203117051114186, 0.12017689491369815, 0.12011284958956078, 0.11964403137608816, 0.1193557384896812, 0.11855288324316982, 0.11695171588955441, 0.11333461669285189], [0.11737745601106535, 0.11714863392461893, 0.11692220945244032, 0.11642227839840548, 0.11601168781455873, 0.11529823980413188, 0.11386691181438713, 0.11041835675462641], [0.1158502286033391, 0.1155637992634454, 0.11511370815614325, 0.11447113627533907, 0.1140852046658681, 0.11334898396627432, 0.11200215196720875, 0.10888458228514697], [0.1130424917584586, 0.11280511481082518, 0.11249120848864204, 0.11174435053466772, 0.11132801802352453, 0.11064574096415075, 0.10939998408602224, 0.10659875550132467], [0.11394902821603144, 0.11374764515749143, 0.11363175739224393, 0.11302651509526145, 0.1126521557448818, 0.11176091152499029, 0.11056692630489282, 0.10799694860692795], [0.10584861274876119, 0.1056459031365105, 0.10559331185925787, 0.10534528051085255, 0.1049862542806288, 0.10411533339014596, 0.10300068361606667, 0.10031743724619034], [0.10798240891727746, 0.10772651631837897, 0.10754049003976315, 0.1073077004324679, 0.1070602620373909, 0.10645096786357737, 0.10528790796990026, 0.1023759970254561], [0.10420650502834249, 0.1039729806640004, 0.10396127138367851, 0.103571246890711, 0.10333820213129051, 0.10273903403225841, 0.10188370739654777, 0.10001700821487773], [0.14880887355465933, 0.14862428238640885, 0.14854144824122575, 0.14827497354900904, 0.14808470599317425, 0.14620966262570403, 0.14216288975032113, 0.1359983721228764], [0.16418850007533772, 0.16402232871249003, 0.16392134607349573, 0.16361196545081927, 0.1633924681550392, 0.16198327607989735, 0.15835833394793855, 0.15275140063386491], [0.17052285185335292, 0.17035322781007986, 0.17019087002070205, 0.16979069261626134, 0.169433863042211, 0.16798758479601517, 0.16451380787812445, 0.1592201414308486], [0.17416351719234435, 0.17394557157522622, 0.17368098005916083, 0.17340331174996637, 0.1732109603732598, 0.17190358034652645, 0.16848056965741137, 0.16331502374803544], [0.17554117260967883, 0.17521050093193702, 0.1746059043610114, 0.17438466640300354, 0.17428299770065872, 0.1729132508402853, 0.16954061395893494, 0.16444908397456812], [0.20313188725290854, 0.20276349065173754, 0.20192533035930627, 0.20136117091788686, 0.20109176006429186, 0.1995717985057584, 0.19549435134481358, 0.1891224250868743], [0.2049771292588909, 0.20458139697452585, 0.2036900546701038, 0.20320766644880728, 0.20298835201637583, 0.20140277259295175, 0.197246332939732, 0.19074424546304136], [0.2067468513321337, 0.20634639231978683, 0.20547117594674255, 0.20491986850435107, 0.2046660354153178, 0.2030533914639911, 0.19883490294185685, 0.19219795321986546], [0.20542472635973438, 0.20489594187249738, 0.2036969080507871, 0.20313827848815816, 0.20290345173577348, 0.20131101783756677, 0.19700983409487086, 0.19026946172563552], [0.21193857946090305, 0.211329245225262, 0.20977920823131696, 0.209088864604579, 0.20879282750288022, 0.20707744628421093, 0.20257538154528007, 0.1956343407257289], [0.21227157930810706, 0.21150857901688364, 0.209627151350016, 0.20891742767293717, 0.20859217123801033, 0.20671483909841332, 0.20224889287220588, 0.1955842699864113], [0.21318442927349424, 0.21235814759116614, 0.21027714290065153, 0.2095316309339883, 0.2091230229108543, 0.2071984170464694, 0.20256864141723133, 0.1953704529803412], [0.20598979842788748, 0.2051053974680942, 0.20280753758974884, 0.20206755378714686, 0.201624857568367, 0.19988795274119286, 0.19595878961917962, 0.18982427630423251], [0.16946610821995925, 0.16839176339967324, 0.1657513252017992, 0.16495733035376747, 0.16455975633875997, 0.16344139941729766, 0.1610175862840786, 0.15689324976648378], [0.16440471639527382, 0.16324437297338074, 0.16041574733623196, 0.15956163801151904, 0.15903305233600779, 0.15779388852104287, 0.15498061866422508, 0.1510910194153063], [0.15980479353569013, 0.15820984680431951, 0.15430672203978293, 0.15345061637583088, 0.152955541497461, 0.15150571538508104, 0.1484470242144986, 0.1453060006019077]]}],\n",
       "                        {\"autosize\": true, \"height\": 600, \"margin\": {\"b\": 65, \"l\": 65, \"r\": 50, \"t\": 90}, \"scene\": {\"aspectmode\": \"manual\", \"aspectratio\": {\"x\": 2, \"y\": 4, \"z\": 1}, \"xaxis\": {\"title\": {\"text\": \"Days to Maturity\"}}, \"yaxis\": {\"title\": {\"text\": \"Date\"}}, \"zaxis\": {\"title\": {\"text\": \"Volatility\"}}}, \"template\": {\"data\": {\"bar\": [{\"error_x\": {\"color\": \"#2a3f5f\"}, \"error_y\": {\"color\": \"#2a3f5f\"}, \"marker\": {\"line\": {\"color\": \"#E5ECF6\", \"width\": 0.5}}, \"type\": \"bar\"}], \"barpolar\": [{\"marker\": {\"line\": {\"color\": \"#E5ECF6\", \"width\": 0.5}}, \"type\": \"barpolar\"}], \"carpet\": [{\"aaxis\": {\"endlinecolor\": \"#2a3f5f\", \"gridcolor\": \"white\", \"linecolor\": \"white\", \"minorgridcolor\": \"white\", \"startlinecolor\": \"#2a3f5f\"}, \"baxis\": {\"endlinecolor\": \"#2a3f5f\", \"gridcolor\": \"white\", \"linecolor\": \"white\", \"minorgridcolor\": \"white\", \"startlinecolor\": \"#2a3f5f\"}, \"type\": \"carpet\"}], \"choropleth\": [{\"colorbar\": {\"outlinewidth\": 0, \"ticks\": \"\"}, \"type\": \"choropleth\"}], \"contour\": [{\"colorbar\": {\"outlinewidth\": 0, \"ticks\": \"\"}, \"colorscale\": [[0.0, \"#0d0887\"], [0.1111111111111111, \"#46039f\"], [0.2222222222222222, \"#7201a8\"], [0.3333333333333333, \"#9c179e\"], [0.4444444444444444, \"#bd3786\"], [0.5555555555555556, \"#d8576b\"], [0.6666666666666666, \"#ed7953\"], [0.7777777777777778, \"#fb9f3a\"], [0.8888888888888888, \"#fdca26\"], [1.0, \"#f0f921\"]], \"type\": \"contour\"}], \"contourcarpet\": [{\"colorbar\": {\"outlinewidth\": 0, \"ticks\": \"\"}, \"type\": \"contourcarpet\"}], \"heatmap\": [{\"colorbar\": {\"outlinewidth\": 0, \"ticks\": \"\"}, \"colorscale\": [[0.0, \"#0d0887\"], [0.1111111111111111, \"#46039f\"], [0.2222222222222222, \"#7201a8\"], [0.3333333333333333, \"#9c179e\"], [0.4444444444444444, \"#bd3786\"], [0.5555555555555556, \"#d8576b\"], [0.6666666666666666, \"#ed7953\"], [0.7777777777777778, \"#fb9f3a\"], [0.8888888888888888, \"#fdca26\"], [1.0, \"#f0f921\"]], \"type\": \"heatmap\"}], \"heatmapgl\": [{\"colorbar\": {\"outlinewidth\": 0, \"ticks\": \"\"}, \"colorscale\": [[0.0, \"#0d0887\"], [0.1111111111111111, \"#46039f\"], [0.2222222222222222, \"#7201a8\"], [0.3333333333333333, \"#9c179e\"], [0.4444444444444444, \"#bd3786\"], [0.5555555555555556, \"#d8576b\"], [0.6666666666666666, \"#ed7953\"], [0.7777777777777778, \"#fb9f3a\"], [0.8888888888888888, \"#fdca26\"], [1.0, \"#f0f921\"]], \"type\": \"heatmapgl\"}], \"histogram\": [{\"marker\": {\"colorbar\": {\"outlinewidth\": 0, \"ticks\": \"\"}}, \"type\": \"histogram\"}], \"histogram2d\": [{\"colorbar\": {\"outlinewidth\": 0, \"ticks\": \"\"}, \"colorscale\": [[0.0, \"#0d0887\"], [0.1111111111111111, \"#46039f\"], [0.2222222222222222, \"#7201a8\"], [0.3333333333333333, \"#9c179e\"], [0.4444444444444444, \"#bd3786\"], [0.5555555555555556, \"#d8576b\"], [0.6666666666666666, \"#ed7953\"], [0.7777777777777778, \"#fb9f3a\"], [0.8888888888888888, \"#fdca26\"], [1.0, \"#f0f921\"]], \"type\": \"histogram2d\"}], \"histogram2dcontour\": [{\"colorbar\": {\"outlinewidth\": 0, \"ticks\": \"\"}, \"colorscale\": [[0.0, \"#0d0887\"], [0.1111111111111111, \"#46039f\"], [0.2222222222222222, \"#7201a8\"], [0.3333333333333333, \"#9c179e\"], [0.4444444444444444, \"#bd3786\"], [0.5555555555555556, \"#d8576b\"], [0.6666666666666666, \"#ed7953\"], [0.7777777777777778, \"#fb9f3a\"], [0.8888888888888888, \"#fdca26\"], [1.0, \"#f0f921\"]], \"type\": \"histogram2dcontour\"}], \"mesh3d\": [{\"colorbar\": {\"outlinewidth\": 0, \"ticks\": \"\"}, \"type\": \"mesh3d\"}], \"parcoords\": [{\"line\": {\"colorbar\": {\"outlinewidth\": 0, \"ticks\": \"\"}}, \"type\": \"parcoords\"}], \"pie\": [{\"automargin\": true, \"type\": \"pie\"}], \"scatter\": [{\"marker\": {\"colorbar\": {\"outlinewidth\": 0, \"ticks\": \"\"}}, \"type\": \"scatter\"}], \"scatter3d\": [{\"line\": {\"colorbar\": {\"outlinewidth\": 0, \"ticks\": \"\"}}, \"marker\": {\"colorbar\": {\"outlinewidth\": 0, \"ticks\": \"\"}}, \"type\": \"scatter3d\"}], \"scattercarpet\": [{\"marker\": {\"colorbar\": {\"outlinewidth\": 0, \"ticks\": \"\"}}, \"type\": \"scattercarpet\"}], \"scattergeo\": [{\"marker\": {\"colorbar\": {\"outlinewidth\": 0, \"ticks\": \"\"}}, \"type\": \"scattergeo\"}], \"scattergl\": [{\"marker\": {\"colorbar\": {\"outlinewidth\": 0, \"ticks\": \"\"}}, \"type\": \"scattergl\"}], \"scattermapbox\": [{\"marker\": {\"colorbar\": {\"outlinewidth\": 0, \"ticks\": \"\"}}, \"type\": \"scattermapbox\"}], \"scatterpolar\": [{\"marker\": {\"colorbar\": {\"outlinewidth\": 0, \"ticks\": \"\"}}, \"type\": \"scatterpolar\"}], \"scatterpolargl\": [{\"marker\": {\"colorbar\": {\"outlinewidth\": 0, \"ticks\": \"\"}}, \"type\": \"scatterpolargl\"}], \"scatterternary\": [{\"marker\": {\"colorbar\": {\"outlinewidth\": 0, \"ticks\": \"\"}}, \"type\": \"scatterternary\"}], \"surface\": [{\"colorbar\": {\"outlinewidth\": 0, \"ticks\": \"\"}, \"colorscale\": [[0.0, \"#0d0887\"], [0.1111111111111111, \"#46039f\"], [0.2222222222222222, \"#7201a8\"], [0.3333333333333333, \"#9c179e\"], [0.4444444444444444, \"#bd3786\"], [0.5555555555555556, \"#d8576b\"], [0.6666666666666666, \"#ed7953\"], [0.7777777777777778, \"#fb9f3a\"], [0.8888888888888888, \"#fdca26\"], [1.0, \"#f0f921\"]], \"type\": \"surface\"}], \"table\": [{\"cells\": {\"fill\": {\"color\": \"#EBF0F8\"}, \"line\": {\"color\": \"white\"}}, \"header\": {\"fill\": {\"color\": \"#C8D4E3\"}, \"line\": {\"color\": \"white\"}}, \"type\": \"table\"}]}, \"layout\": {\"annotationdefaults\": {\"arrowcolor\": \"#2a3f5f\", \"arrowhead\": 0, \"arrowwidth\": 1}, \"coloraxis\": {\"colorbar\": {\"outlinewidth\": 0, \"ticks\": \"\"}}, \"colorscale\": {\"diverging\": [[0, \"#8e0152\"], [0.1, \"#c51b7d\"], [0.2, \"#de77ae\"], [0.3, \"#f1b6da\"], [0.4, \"#fde0ef\"], [0.5, \"#f7f7f7\"], [0.6, \"#e6f5d0\"], [0.7, \"#b8e186\"], [0.8, \"#7fbc41\"], [0.9, \"#4d9221\"], [1, \"#276419\"]], \"sequential\": [[0.0, \"#0d0887\"], [0.1111111111111111, \"#46039f\"], [0.2222222222222222, \"#7201a8\"], [0.3333333333333333, \"#9c179e\"], [0.4444444444444444, \"#bd3786\"], [0.5555555555555556, \"#d8576b\"], [0.6666666666666666, \"#ed7953\"], [0.7777777777777778, \"#fb9f3a\"], [0.8888888888888888, \"#fdca26\"], [1.0, \"#f0f921\"]], \"sequentialminus\": [[0.0, \"#0d0887\"], [0.1111111111111111, \"#46039f\"], [0.2222222222222222, \"#7201a8\"], [0.3333333333333333, \"#9c179e\"], [0.4444444444444444, \"#bd3786\"], [0.5555555555555556, \"#d8576b\"], [0.6666666666666666, \"#ed7953\"], [0.7777777777777778, \"#fb9f3a\"], [0.8888888888888888, \"#fdca26\"], [1.0, \"#f0f921\"]]}, \"colorway\": [\"#636efa\", \"#EF553B\", \"#00cc96\", \"#ab63fa\", \"#FFA15A\", \"#19d3f3\", \"#FF6692\", \"#B6E880\", \"#FF97FF\", \"#FECB52\"], \"font\": {\"color\": \"#2a3f5f\"}, \"geo\": {\"bgcolor\": \"white\", \"lakecolor\": \"white\", \"landcolor\": \"#E5ECF6\", \"showlakes\": true, \"showland\": true, \"subunitcolor\": \"white\"}, \"hoverlabel\": {\"align\": \"left\"}, \"hovermode\": \"closest\", \"mapbox\": {\"style\": \"light\"}, \"paper_bgcolor\": \"white\", \"plot_bgcolor\": \"#E5ECF6\", \"polar\": {\"angularaxis\": {\"gridcolor\": \"white\", \"linecolor\": \"white\", \"ticks\": \"\"}, \"bgcolor\": \"#E5ECF6\", \"radialaxis\": {\"gridcolor\": \"white\", \"linecolor\": \"white\", \"ticks\": \"\"}}, \"scene\": {\"xaxis\": {\"backgroundcolor\": \"#E5ECF6\", \"gridcolor\": \"white\", \"gridwidth\": 2, \"linecolor\": \"white\", \"showbackground\": true, \"ticks\": \"\", \"zerolinecolor\": \"white\"}, \"yaxis\": {\"backgroundcolor\": \"#E5ECF6\", \"gridcolor\": \"white\", \"gridwidth\": 2, \"linecolor\": \"white\", \"showbackground\": true, \"ticks\": \"\", \"zerolinecolor\": \"white\"}, \"zaxis\": {\"backgroundcolor\": \"#E5ECF6\", \"gridcolor\": \"white\", \"gridwidth\": 2, \"linecolor\": \"white\", \"showbackground\": true, \"ticks\": \"\", \"zerolinecolor\": \"white\"}}, \"shapedefaults\": {\"line\": {\"color\": \"#2a3f5f\"}}, \"ternary\": {\"aaxis\": {\"gridcolor\": \"white\", \"linecolor\": \"white\", \"ticks\": \"\"}, \"baxis\": {\"gridcolor\": \"white\", \"linecolor\": \"white\", \"ticks\": \"\"}, \"bgcolor\": \"#E5ECF6\", \"caxis\": {\"gridcolor\": \"white\", \"linecolor\": \"white\", \"ticks\": \"\"}}, \"title\": {\"x\": 0.05}, \"xaxis\": {\"automargin\": true, \"gridcolor\": \"white\", \"linecolor\": \"white\", \"ticks\": \"\", \"title\": {\"standoff\": 15}, \"zerolinecolor\": \"white\", \"zerolinewidth\": 2}, \"yaxis\": {\"automargin\": true, \"gridcolor\": \"white\", \"linecolor\": \"white\", \"ticks\": \"\", \"title\": {\"standoff\": 15}, \"zerolinecolor\": \"white\", \"zerolinewidth\": 2}}}, \"title\": {\"text\": \"Gold Futures Price Volatiliy Curve\"}, \"width\": 800},\n",
       "                        {\"responsive\": true}\n",
       "                    ).then(function(){\n",
       "                            \n",
       "var gd = document.getElementById('daff4463-9e26-4246-826e-e62829c95d98');\n",
       "var x = new MutationObserver(function (mutations, observer) {{\n",
       "        var display = window.getComputedStyle(gd).display;\n",
       "        if (!display || display === 'none') {{\n",
       "            console.log([gd, 'removed!']);\n",
       "            Plotly.purge(gd);\n",
       "            observer.disconnect();\n",
       "        }}\n",
       "}});\n",
       "\n",
       "// Listen for the removal of the full notebook cells\n",
       "var notebookContainer = gd.closest('#notebook-container');\n",
       "if (notebookContainer) {{\n",
       "    x.observe(notebookContainer, {childList: true});\n",
       "}}\n",
       "\n",
       "// Listen for the clearing of the current output cell\n",
       "var outputEl = gd.closest('.output');\n",
       "if (outputEl) {{\n",
       "    x.observe(outputEl, {childList: true});\n",
       "}}\n",
       "\n",
       "                        })\n",
       "                };\n",
       "                });\n",
       "            </script>\n",
       "        </div>"
      ]
     },
     "metadata": {},
     "output_type": "display_data"
    }
   ],
   "source": [
    "plotdata = const_mat_vol['1996':'2000'].resample('M').fillna('ffill')\n",
    "\n",
    "x = plotdata.columns.levels[1]\n",
    "y = plotdata.index.strftime('%b-%y').tolist()\n",
    "z = plotdata.values\n",
    "\n",
    "fig = go.Figure(data=[go.Surface(x=x,y=y,z=z)])\n",
    "\n",
    "fig.update_layout(title='Gold Futures Price Volatiliy Curve', autosize=True, \n",
    "                  width=800, height=600, \n",
    "                  scene=dict(\n",
    "                      xaxis = dict(\n",
    "                          title = 'Days to Maturity',\n",
    "                      ),\n",
    "                      yaxis = dict(\n",
    "                          title = 'Date',\n",
    "                      ),\n",
    "                      zaxis = dict(\n",
    "                          title = 'Volatility',\n",
    "                      ),\n",
    "                      aspectmode='manual',\n",
    "                      aspectratio=dict(x=2,y=4,z=1),\n",
    "                   ),\n",
    "                  margin=dict(l=65, r=50, b=65, t=90))\n",
    "\n",
    "fig.show()"
   ]
  },
  {
   "cell_type": "markdown",
   "metadata": {},
   "source": [
    "**Observations**:\n",
    "1. Volatility tends to be constant across all maturity periods\n",
    "2. Volatility trending up between 1996 to 2000"
   ]
  }
 ],
 "metadata": {
  "kernelspec": {
   "display_name": "Python 3",
   "language": "python",
   "name": "python3"
  },
  "language_info": {
   "codemirror_mode": {
    "name": "ipython",
    "version": 3
   },
   "file_extension": ".py",
   "mimetype": "text/x-python",
   "name": "python",
   "nbconvert_exporter": "python",
   "pygments_lexer": "ipython3",
   "version": "3.8.3"
  }
 },
 "nbformat": 4,
 "nbformat_minor": 4
}
